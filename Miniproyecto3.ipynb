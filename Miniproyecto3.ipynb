{
 "cells": [
  {
   "cell_type": "markdown",
   "id": "edb815b4",
   "metadata": {},
   "source": [
    "---\n",
    "---\n",
    "\n",
    "# Miniproyecto 3\n",
    "\n",
    "---\n",
    "---"
   ]
  },
  {
   "cell_type": "markdown",
   "id": "3f0376d0",
   "metadata": {},
   "source": [
    "Nombre:\n",
    "----------\n",
    "\n",
    "Mallén Arenas"
   ]
  },
  {
   "cell_type": "markdown",
   "id": "7285ac12",
   "metadata": {},
   "source": [
    "## 0.- Cargar librerías y explicar sus usos: "
   ]
  },
  {
   "cell_type": "markdown",
   "id": "ffaaeace",
   "metadata": {},
   "source": [
    "Partimos importando las librerías numpy que nos permite trabajar con arrays y pandas que nos permite importar los datos y pasarlo a un dataframe. Luego importamos las librerías matplotlib y seaborn para poder hacer los gráficos.\n",
    "De la librería sklearn.model_selection importamos la función train_test_split que nos separa los datos en la parte de entrenamiento y de test. StandardScaler y MinMaxScaler nos sirve para normalizar los datos continuos y pasar a númerico los datos categóricos. RandomForestClassifier y tree son los modelos que utilizaremos. SMOTE y RandomUnderSampler los utilizaremos para solucionar el problema de datos desbalanceados. "
   ]
  },
  {
   "cell_type": "code",
   "execution_count": 2,
   "id": "dad1adff",
   "metadata": {},
   "outputs": [],
   "source": [
    "import numpy as np\n",
    "import pandas as pd\n",
    "\n",
    "import matplotlib.pyplot as plt\n",
    "import seaborn as sns\n",
    "\n",
    "import pydotplus\n",
    "import graphviz\n",
    "\n",
    "from sklearn.model_selection import train_test_split\n",
    "from sklearn.preprocessing import StandardScaler, MinMaxScaler\n",
    "from sklearn import metrics\n",
    "from sklearn.ensemble import RandomForestClassifier\n",
    "from sklearn import tree\n",
    "from imblearn.over_sampling import SMOTE\n",
    "from imblearn.under_sampling import RandomUnderSampler"
   ]
  },
  {
   "cell_type": "markdown",
   "id": "adc57866",
   "metadata": {},
   "source": [
    "## 1.- Extracción, filtrado, limpieza, depuración, homogeneización y agrupación de la información de la base de datos propuesta. Analizar cada atributo y justificar cada toma de decisión."
   ]
  },
  {
   "cell_type": "markdown",
   "id": "408519ea",
   "metadata": {},
   "source": [
    "Primero leemos los datos y los pasamos a un DataFrame llamado df. Con df.columns podemos ver el nombre de todas las variables que trae el conjunto de datos. Usamos describe para obtener medidas de resumen, como tenemos muchas variables categoricas utilizamos el parámetro include='all'. Utilizamos isna.sum para revisar si hay datos faltantes, los cuales no se encuentran en el conjunto de datos. Por último con unique y podemos revisar las categorías de cada variable. En este caso constatamos que no hay datos faltantes, ni tampoco categoriás que no correspondan a las categorías declaradas en el archivo txt adjunto. "
   ]
  },
  {
   "cell_type": "code",
   "execution_count": 3,
   "id": "23a1915f",
   "metadata": {},
   "outputs": [],
   "source": [
    "df = pd.read_csv('diabetes_012_health_indicators_BRFSS2015.csv', sep=',')"
   ]
  },
  {
   "cell_type": "code",
   "execution_count": 4,
   "id": "d11569d3",
   "metadata": {},
   "outputs": [
    {
     "data": {
      "text/html": [
       "<div>\n",
       "<style scoped>\n",
       "    .dataframe tbody tr th:only-of-type {\n",
       "        vertical-align: middle;\n",
       "    }\n",
       "\n",
       "    .dataframe tbody tr th {\n",
       "        vertical-align: top;\n",
       "    }\n",
       "\n",
       "    .dataframe thead th {\n",
       "        text-align: right;\n",
       "    }\n",
       "</style>\n",
       "<table border=\"1\" class=\"dataframe\">\n",
       "  <thead>\n",
       "    <tr style=\"text-align: right;\">\n",
       "      <th></th>\n",
       "      <th>Diabetes_012</th>\n",
       "      <th>HighBP</th>\n",
       "      <th>HighChol</th>\n",
       "      <th>CholCheck</th>\n",
       "      <th>BMI</th>\n",
       "      <th>Smoker</th>\n",
       "      <th>Stroke</th>\n",
       "      <th>HeartDiseaseorAttack</th>\n",
       "      <th>PhysActivity</th>\n",
       "      <th>Fruits</th>\n",
       "      <th>...</th>\n",
       "      <th>AnyHealthcare</th>\n",
       "      <th>NoDocbcCost</th>\n",
       "      <th>GenHlth</th>\n",
       "      <th>MentHlth</th>\n",
       "      <th>PhysHlth</th>\n",
       "      <th>DiffWalk</th>\n",
       "      <th>Sex</th>\n",
       "      <th>Age</th>\n",
       "      <th>Education</th>\n",
       "      <th>Income</th>\n",
       "    </tr>\n",
       "  </thead>\n",
       "  <tbody>\n",
       "    <tr>\n",
       "      <th>0</th>\n",
       "      <td>0.0</td>\n",
       "      <td>1.0</td>\n",
       "      <td>1.0</td>\n",
       "      <td>1.0</td>\n",
       "      <td>40.0</td>\n",
       "      <td>1.0</td>\n",
       "      <td>0.0</td>\n",
       "      <td>0.0</td>\n",
       "      <td>0.0</td>\n",
       "      <td>0.0</td>\n",
       "      <td>...</td>\n",
       "      <td>1.0</td>\n",
       "      <td>0.0</td>\n",
       "      <td>5.0</td>\n",
       "      <td>18.0</td>\n",
       "      <td>15.0</td>\n",
       "      <td>1.0</td>\n",
       "      <td>0.0</td>\n",
       "      <td>9.0</td>\n",
       "      <td>4.0</td>\n",
       "      <td>3.0</td>\n",
       "    </tr>\n",
       "    <tr>\n",
       "      <th>1</th>\n",
       "      <td>0.0</td>\n",
       "      <td>0.0</td>\n",
       "      <td>0.0</td>\n",
       "      <td>0.0</td>\n",
       "      <td>25.0</td>\n",
       "      <td>1.0</td>\n",
       "      <td>0.0</td>\n",
       "      <td>0.0</td>\n",
       "      <td>1.0</td>\n",
       "      <td>0.0</td>\n",
       "      <td>...</td>\n",
       "      <td>0.0</td>\n",
       "      <td>1.0</td>\n",
       "      <td>3.0</td>\n",
       "      <td>0.0</td>\n",
       "      <td>0.0</td>\n",
       "      <td>0.0</td>\n",
       "      <td>0.0</td>\n",
       "      <td>7.0</td>\n",
       "      <td>6.0</td>\n",
       "      <td>1.0</td>\n",
       "    </tr>\n",
       "    <tr>\n",
       "      <th>2</th>\n",
       "      <td>0.0</td>\n",
       "      <td>1.0</td>\n",
       "      <td>1.0</td>\n",
       "      <td>1.0</td>\n",
       "      <td>28.0</td>\n",
       "      <td>0.0</td>\n",
       "      <td>0.0</td>\n",
       "      <td>0.0</td>\n",
       "      <td>0.0</td>\n",
       "      <td>1.0</td>\n",
       "      <td>...</td>\n",
       "      <td>1.0</td>\n",
       "      <td>1.0</td>\n",
       "      <td>5.0</td>\n",
       "      <td>30.0</td>\n",
       "      <td>30.0</td>\n",
       "      <td>1.0</td>\n",
       "      <td>0.0</td>\n",
       "      <td>9.0</td>\n",
       "      <td>4.0</td>\n",
       "      <td>8.0</td>\n",
       "    </tr>\n",
       "    <tr>\n",
       "      <th>3</th>\n",
       "      <td>0.0</td>\n",
       "      <td>1.0</td>\n",
       "      <td>0.0</td>\n",
       "      <td>1.0</td>\n",
       "      <td>27.0</td>\n",
       "      <td>0.0</td>\n",
       "      <td>0.0</td>\n",
       "      <td>0.0</td>\n",
       "      <td>1.0</td>\n",
       "      <td>1.0</td>\n",
       "      <td>...</td>\n",
       "      <td>1.0</td>\n",
       "      <td>0.0</td>\n",
       "      <td>2.0</td>\n",
       "      <td>0.0</td>\n",
       "      <td>0.0</td>\n",
       "      <td>0.0</td>\n",
       "      <td>0.0</td>\n",
       "      <td>11.0</td>\n",
       "      <td>3.0</td>\n",
       "      <td>6.0</td>\n",
       "    </tr>\n",
       "    <tr>\n",
       "      <th>4</th>\n",
       "      <td>0.0</td>\n",
       "      <td>1.0</td>\n",
       "      <td>1.0</td>\n",
       "      <td>1.0</td>\n",
       "      <td>24.0</td>\n",
       "      <td>0.0</td>\n",
       "      <td>0.0</td>\n",
       "      <td>0.0</td>\n",
       "      <td>1.0</td>\n",
       "      <td>1.0</td>\n",
       "      <td>...</td>\n",
       "      <td>1.0</td>\n",
       "      <td>0.0</td>\n",
       "      <td>2.0</td>\n",
       "      <td>3.0</td>\n",
       "      <td>0.0</td>\n",
       "      <td>0.0</td>\n",
       "      <td>0.0</td>\n",
       "      <td>11.0</td>\n",
       "      <td>5.0</td>\n",
       "      <td>4.0</td>\n",
       "    </tr>\n",
       "    <tr>\n",
       "      <th>...</th>\n",
       "      <td>...</td>\n",
       "      <td>...</td>\n",
       "      <td>...</td>\n",
       "      <td>...</td>\n",
       "      <td>...</td>\n",
       "      <td>...</td>\n",
       "      <td>...</td>\n",
       "      <td>...</td>\n",
       "      <td>...</td>\n",
       "      <td>...</td>\n",
       "      <td>...</td>\n",
       "      <td>...</td>\n",
       "      <td>...</td>\n",
       "      <td>...</td>\n",
       "      <td>...</td>\n",
       "      <td>...</td>\n",
       "      <td>...</td>\n",
       "      <td>...</td>\n",
       "      <td>...</td>\n",
       "      <td>...</td>\n",
       "      <td>...</td>\n",
       "    </tr>\n",
       "    <tr>\n",
       "      <th>253675</th>\n",
       "      <td>0.0</td>\n",
       "      <td>1.0</td>\n",
       "      <td>1.0</td>\n",
       "      <td>1.0</td>\n",
       "      <td>45.0</td>\n",
       "      <td>0.0</td>\n",
       "      <td>0.0</td>\n",
       "      <td>0.0</td>\n",
       "      <td>0.0</td>\n",
       "      <td>1.0</td>\n",
       "      <td>...</td>\n",
       "      <td>1.0</td>\n",
       "      <td>0.0</td>\n",
       "      <td>3.0</td>\n",
       "      <td>0.0</td>\n",
       "      <td>5.0</td>\n",
       "      <td>0.0</td>\n",
       "      <td>1.0</td>\n",
       "      <td>5.0</td>\n",
       "      <td>6.0</td>\n",
       "      <td>7.0</td>\n",
       "    </tr>\n",
       "    <tr>\n",
       "      <th>253676</th>\n",
       "      <td>2.0</td>\n",
       "      <td>1.0</td>\n",
       "      <td>1.0</td>\n",
       "      <td>1.0</td>\n",
       "      <td>18.0</td>\n",
       "      <td>0.0</td>\n",
       "      <td>0.0</td>\n",
       "      <td>0.0</td>\n",
       "      <td>0.0</td>\n",
       "      <td>0.0</td>\n",
       "      <td>...</td>\n",
       "      <td>1.0</td>\n",
       "      <td>0.0</td>\n",
       "      <td>4.0</td>\n",
       "      <td>0.0</td>\n",
       "      <td>0.0</td>\n",
       "      <td>1.0</td>\n",
       "      <td>0.0</td>\n",
       "      <td>11.0</td>\n",
       "      <td>2.0</td>\n",
       "      <td>4.0</td>\n",
       "    </tr>\n",
       "    <tr>\n",
       "      <th>253677</th>\n",
       "      <td>0.0</td>\n",
       "      <td>0.0</td>\n",
       "      <td>0.0</td>\n",
       "      <td>1.0</td>\n",
       "      <td>28.0</td>\n",
       "      <td>0.0</td>\n",
       "      <td>0.0</td>\n",
       "      <td>0.0</td>\n",
       "      <td>1.0</td>\n",
       "      <td>1.0</td>\n",
       "      <td>...</td>\n",
       "      <td>1.0</td>\n",
       "      <td>0.0</td>\n",
       "      <td>1.0</td>\n",
       "      <td>0.0</td>\n",
       "      <td>0.0</td>\n",
       "      <td>0.0</td>\n",
       "      <td>0.0</td>\n",
       "      <td>2.0</td>\n",
       "      <td>5.0</td>\n",
       "      <td>2.0</td>\n",
       "    </tr>\n",
       "    <tr>\n",
       "      <th>253678</th>\n",
       "      <td>0.0</td>\n",
       "      <td>1.0</td>\n",
       "      <td>0.0</td>\n",
       "      <td>1.0</td>\n",
       "      <td>23.0</td>\n",
       "      <td>0.0</td>\n",
       "      <td>0.0</td>\n",
       "      <td>0.0</td>\n",
       "      <td>0.0</td>\n",
       "      <td>1.0</td>\n",
       "      <td>...</td>\n",
       "      <td>1.0</td>\n",
       "      <td>0.0</td>\n",
       "      <td>3.0</td>\n",
       "      <td>0.0</td>\n",
       "      <td>0.0</td>\n",
       "      <td>0.0</td>\n",
       "      <td>1.0</td>\n",
       "      <td>7.0</td>\n",
       "      <td>5.0</td>\n",
       "      <td>1.0</td>\n",
       "    </tr>\n",
       "    <tr>\n",
       "      <th>253679</th>\n",
       "      <td>2.0</td>\n",
       "      <td>1.0</td>\n",
       "      <td>1.0</td>\n",
       "      <td>1.0</td>\n",
       "      <td>25.0</td>\n",
       "      <td>0.0</td>\n",
       "      <td>0.0</td>\n",
       "      <td>1.0</td>\n",
       "      <td>1.0</td>\n",
       "      <td>1.0</td>\n",
       "      <td>...</td>\n",
       "      <td>1.0</td>\n",
       "      <td>0.0</td>\n",
       "      <td>2.0</td>\n",
       "      <td>0.0</td>\n",
       "      <td>0.0</td>\n",
       "      <td>0.0</td>\n",
       "      <td>0.0</td>\n",
       "      <td>9.0</td>\n",
       "      <td>6.0</td>\n",
       "      <td>2.0</td>\n",
       "    </tr>\n",
       "  </tbody>\n",
       "</table>\n",
       "<p>253680 rows × 22 columns</p>\n",
       "</div>"
      ],
      "text/plain": [
       "        Diabetes_012  HighBP  HighChol  CholCheck   BMI  Smoker  Stroke  \\\n",
       "0                0.0     1.0       1.0        1.0  40.0     1.0     0.0   \n",
       "1                0.0     0.0       0.0        0.0  25.0     1.0     0.0   \n",
       "2                0.0     1.0       1.0        1.0  28.0     0.0     0.0   \n",
       "3                0.0     1.0       0.0        1.0  27.0     0.0     0.0   \n",
       "4                0.0     1.0       1.0        1.0  24.0     0.0     0.0   \n",
       "...              ...     ...       ...        ...   ...     ...     ...   \n",
       "253675           0.0     1.0       1.0        1.0  45.0     0.0     0.0   \n",
       "253676           2.0     1.0       1.0        1.0  18.0     0.0     0.0   \n",
       "253677           0.0     0.0       0.0        1.0  28.0     0.0     0.0   \n",
       "253678           0.0     1.0       0.0        1.0  23.0     0.0     0.0   \n",
       "253679           2.0     1.0       1.0        1.0  25.0     0.0     0.0   \n",
       "\n",
       "        HeartDiseaseorAttack  PhysActivity  Fruits  ...  AnyHealthcare  \\\n",
       "0                        0.0           0.0     0.0  ...            1.0   \n",
       "1                        0.0           1.0     0.0  ...            0.0   \n",
       "2                        0.0           0.0     1.0  ...            1.0   \n",
       "3                        0.0           1.0     1.0  ...            1.0   \n",
       "4                        0.0           1.0     1.0  ...            1.0   \n",
       "...                      ...           ...     ...  ...            ...   \n",
       "253675                   0.0           0.0     1.0  ...            1.0   \n",
       "253676                   0.0           0.0     0.0  ...            1.0   \n",
       "253677                   0.0           1.0     1.0  ...            1.0   \n",
       "253678                   0.0           0.0     1.0  ...            1.0   \n",
       "253679                   1.0           1.0     1.0  ...            1.0   \n",
       "\n",
       "        NoDocbcCost  GenHlth  MentHlth  PhysHlth  DiffWalk  Sex   Age  \\\n",
       "0               0.0      5.0      18.0      15.0       1.0  0.0   9.0   \n",
       "1               1.0      3.0       0.0       0.0       0.0  0.0   7.0   \n",
       "2               1.0      5.0      30.0      30.0       1.0  0.0   9.0   \n",
       "3               0.0      2.0       0.0       0.0       0.0  0.0  11.0   \n",
       "4               0.0      2.0       3.0       0.0       0.0  0.0  11.0   \n",
       "...             ...      ...       ...       ...       ...  ...   ...   \n",
       "253675          0.0      3.0       0.0       5.0       0.0  1.0   5.0   \n",
       "253676          0.0      4.0       0.0       0.0       1.0  0.0  11.0   \n",
       "253677          0.0      1.0       0.0       0.0       0.0  0.0   2.0   \n",
       "253678          0.0      3.0       0.0       0.0       0.0  1.0   7.0   \n",
       "253679          0.0      2.0       0.0       0.0       0.0  0.0   9.0   \n",
       "\n",
       "        Education  Income  \n",
       "0             4.0     3.0  \n",
       "1             6.0     1.0  \n",
       "2             4.0     8.0  \n",
       "3             3.0     6.0  \n",
       "4             5.0     4.0  \n",
       "...           ...     ...  \n",
       "253675        6.0     7.0  \n",
       "253676        2.0     4.0  \n",
       "253677        5.0     2.0  \n",
       "253678        5.0     1.0  \n",
       "253679        6.0     2.0  \n",
       "\n",
       "[253680 rows x 22 columns]"
      ]
     },
     "execution_count": 4,
     "metadata": {},
     "output_type": "execute_result"
    }
   ],
   "source": [
    "df"
   ]
  },
  {
   "cell_type": "code",
   "execution_count": 5,
   "id": "37e4ed7b",
   "metadata": {},
   "outputs": [
    {
     "data": {
      "text/plain": [
       "Index(['Diabetes_012', 'HighBP', 'HighChol', 'CholCheck', 'BMI', 'Smoker',\n",
       "       'Stroke', 'HeartDiseaseorAttack', 'PhysActivity', 'Fruits', 'Veggies',\n",
       "       'HvyAlcoholConsump', 'AnyHealthcare', 'NoDocbcCost', 'GenHlth',\n",
       "       'MentHlth', 'PhysHlth', 'DiffWalk', 'Sex', 'Age', 'Education',\n",
       "       'Income'],\n",
       "      dtype='object')"
      ]
     },
     "execution_count": 5,
     "metadata": {},
     "output_type": "execute_result"
    }
   ],
   "source": [
    "df.columns"
   ]
  },
  {
   "cell_type": "code",
   "execution_count": 6,
   "id": "53988ca5",
   "metadata": {},
   "outputs": [
    {
     "data": {
      "text/html": [
       "<div>\n",
       "<style scoped>\n",
       "    .dataframe tbody tr th:only-of-type {\n",
       "        vertical-align: middle;\n",
       "    }\n",
       "\n",
       "    .dataframe tbody tr th {\n",
       "        vertical-align: top;\n",
       "    }\n",
       "\n",
       "    .dataframe thead th {\n",
       "        text-align: right;\n",
       "    }\n",
       "</style>\n",
       "<table border=\"1\" class=\"dataframe\">\n",
       "  <thead>\n",
       "    <tr style=\"text-align: right;\">\n",
       "      <th></th>\n",
       "      <th>Diabetes_012</th>\n",
       "      <th>HighBP</th>\n",
       "      <th>HighChol</th>\n",
       "      <th>CholCheck</th>\n",
       "      <th>BMI</th>\n",
       "      <th>Smoker</th>\n",
       "      <th>Stroke</th>\n",
       "      <th>HeartDiseaseorAttack</th>\n",
       "      <th>PhysActivity</th>\n",
       "      <th>Fruits</th>\n",
       "      <th>...</th>\n",
       "      <th>AnyHealthcare</th>\n",
       "      <th>NoDocbcCost</th>\n",
       "      <th>GenHlth</th>\n",
       "      <th>MentHlth</th>\n",
       "      <th>PhysHlth</th>\n",
       "      <th>DiffWalk</th>\n",
       "      <th>Sex</th>\n",
       "      <th>Age</th>\n",
       "      <th>Education</th>\n",
       "      <th>Income</th>\n",
       "    </tr>\n",
       "  </thead>\n",
       "  <tbody>\n",
       "    <tr>\n",
       "      <th>count</th>\n",
       "      <td>253680.000000</td>\n",
       "      <td>253680.000000</td>\n",
       "      <td>253680.000000</td>\n",
       "      <td>253680.000000</td>\n",
       "      <td>253680.000000</td>\n",
       "      <td>253680.000000</td>\n",
       "      <td>253680.000000</td>\n",
       "      <td>253680.000000</td>\n",
       "      <td>253680.000000</td>\n",
       "      <td>253680.000000</td>\n",
       "      <td>...</td>\n",
       "      <td>253680.000000</td>\n",
       "      <td>253680.000000</td>\n",
       "      <td>253680.000000</td>\n",
       "      <td>253680.000000</td>\n",
       "      <td>253680.000000</td>\n",
       "      <td>253680.000000</td>\n",
       "      <td>253680.000000</td>\n",
       "      <td>253680.000000</td>\n",
       "      <td>253680.000000</td>\n",
       "      <td>253680.000000</td>\n",
       "    </tr>\n",
       "    <tr>\n",
       "      <th>mean</th>\n",
       "      <td>0.296921</td>\n",
       "      <td>0.429001</td>\n",
       "      <td>0.424121</td>\n",
       "      <td>0.962670</td>\n",
       "      <td>28.382364</td>\n",
       "      <td>0.443169</td>\n",
       "      <td>0.040571</td>\n",
       "      <td>0.094186</td>\n",
       "      <td>0.756544</td>\n",
       "      <td>0.634256</td>\n",
       "      <td>...</td>\n",
       "      <td>0.951053</td>\n",
       "      <td>0.084177</td>\n",
       "      <td>2.511392</td>\n",
       "      <td>3.184772</td>\n",
       "      <td>4.242081</td>\n",
       "      <td>0.168224</td>\n",
       "      <td>0.440342</td>\n",
       "      <td>8.032119</td>\n",
       "      <td>5.050434</td>\n",
       "      <td>6.053875</td>\n",
       "    </tr>\n",
       "    <tr>\n",
       "      <th>std</th>\n",
       "      <td>0.698160</td>\n",
       "      <td>0.494934</td>\n",
       "      <td>0.494210</td>\n",
       "      <td>0.189571</td>\n",
       "      <td>6.608694</td>\n",
       "      <td>0.496761</td>\n",
       "      <td>0.197294</td>\n",
       "      <td>0.292087</td>\n",
       "      <td>0.429169</td>\n",
       "      <td>0.481639</td>\n",
       "      <td>...</td>\n",
       "      <td>0.215759</td>\n",
       "      <td>0.277654</td>\n",
       "      <td>1.068477</td>\n",
       "      <td>7.412847</td>\n",
       "      <td>8.717951</td>\n",
       "      <td>0.374066</td>\n",
       "      <td>0.496429</td>\n",
       "      <td>3.054220</td>\n",
       "      <td>0.985774</td>\n",
       "      <td>2.071148</td>\n",
       "    </tr>\n",
       "    <tr>\n",
       "      <th>min</th>\n",
       "      <td>0.000000</td>\n",
       "      <td>0.000000</td>\n",
       "      <td>0.000000</td>\n",
       "      <td>0.000000</td>\n",
       "      <td>12.000000</td>\n",
       "      <td>0.000000</td>\n",
       "      <td>0.000000</td>\n",
       "      <td>0.000000</td>\n",
       "      <td>0.000000</td>\n",
       "      <td>0.000000</td>\n",
       "      <td>...</td>\n",
       "      <td>0.000000</td>\n",
       "      <td>0.000000</td>\n",
       "      <td>1.000000</td>\n",
       "      <td>0.000000</td>\n",
       "      <td>0.000000</td>\n",
       "      <td>0.000000</td>\n",
       "      <td>0.000000</td>\n",
       "      <td>1.000000</td>\n",
       "      <td>1.000000</td>\n",
       "      <td>1.000000</td>\n",
       "    </tr>\n",
       "    <tr>\n",
       "      <th>25%</th>\n",
       "      <td>0.000000</td>\n",
       "      <td>0.000000</td>\n",
       "      <td>0.000000</td>\n",
       "      <td>1.000000</td>\n",
       "      <td>24.000000</td>\n",
       "      <td>0.000000</td>\n",
       "      <td>0.000000</td>\n",
       "      <td>0.000000</td>\n",
       "      <td>1.000000</td>\n",
       "      <td>0.000000</td>\n",
       "      <td>...</td>\n",
       "      <td>1.000000</td>\n",
       "      <td>0.000000</td>\n",
       "      <td>2.000000</td>\n",
       "      <td>0.000000</td>\n",
       "      <td>0.000000</td>\n",
       "      <td>0.000000</td>\n",
       "      <td>0.000000</td>\n",
       "      <td>6.000000</td>\n",
       "      <td>4.000000</td>\n",
       "      <td>5.000000</td>\n",
       "    </tr>\n",
       "    <tr>\n",
       "      <th>50%</th>\n",
       "      <td>0.000000</td>\n",
       "      <td>0.000000</td>\n",
       "      <td>0.000000</td>\n",
       "      <td>1.000000</td>\n",
       "      <td>27.000000</td>\n",
       "      <td>0.000000</td>\n",
       "      <td>0.000000</td>\n",
       "      <td>0.000000</td>\n",
       "      <td>1.000000</td>\n",
       "      <td>1.000000</td>\n",
       "      <td>...</td>\n",
       "      <td>1.000000</td>\n",
       "      <td>0.000000</td>\n",
       "      <td>2.000000</td>\n",
       "      <td>0.000000</td>\n",
       "      <td>0.000000</td>\n",
       "      <td>0.000000</td>\n",
       "      <td>0.000000</td>\n",
       "      <td>8.000000</td>\n",
       "      <td>5.000000</td>\n",
       "      <td>7.000000</td>\n",
       "    </tr>\n",
       "    <tr>\n",
       "      <th>75%</th>\n",
       "      <td>0.000000</td>\n",
       "      <td>1.000000</td>\n",
       "      <td>1.000000</td>\n",
       "      <td>1.000000</td>\n",
       "      <td>31.000000</td>\n",
       "      <td>1.000000</td>\n",
       "      <td>0.000000</td>\n",
       "      <td>0.000000</td>\n",
       "      <td>1.000000</td>\n",
       "      <td>1.000000</td>\n",
       "      <td>...</td>\n",
       "      <td>1.000000</td>\n",
       "      <td>0.000000</td>\n",
       "      <td>3.000000</td>\n",
       "      <td>2.000000</td>\n",
       "      <td>3.000000</td>\n",
       "      <td>0.000000</td>\n",
       "      <td>1.000000</td>\n",
       "      <td>10.000000</td>\n",
       "      <td>6.000000</td>\n",
       "      <td>8.000000</td>\n",
       "    </tr>\n",
       "    <tr>\n",
       "      <th>max</th>\n",
       "      <td>2.000000</td>\n",
       "      <td>1.000000</td>\n",
       "      <td>1.000000</td>\n",
       "      <td>1.000000</td>\n",
       "      <td>98.000000</td>\n",
       "      <td>1.000000</td>\n",
       "      <td>1.000000</td>\n",
       "      <td>1.000000</td>\n",
       "      <td>1.000000</td>\n",
       "      <td>1.000000</td>\n",
       "      <td>...</td>\n",
       "      <td>1.000000</td>\n",
       "      <td>1.000000</td>\n",
       "      <td>5.000000</td>\n",
       "      <td>30.000000</td>\n",
       "      <td>30.000000</td>\n",
       "      <td>1.000000</td>\n",
       "      <td>1.000000</td>\n",
       "      <td>13.000000</td>\n",
       "      <td>6.000000</td>\n",
       "      <td>8.000000</td>\n",
       "    </tr>\n",
       "  </tbody>\n",
       "</table>\n",
       "<p>8 rows × 22 columns</p>\n",
       "</div>"
      ],
      "text/plain": [
       "        Diabetes_012         HighBP       HighChol      CholCheck  \\\n",
       "count  253680.000000  253680.000000  253680.000000  253680.000000   \n",
       "mean        0.296921       0.429001       0.424121       0.962670   \n",
       "std         0.698160       0.494934       0.494210       0.189571   \n",
       "min         0.000000       0.000000       0.000000       0.000000   \n",
       "25%         0.000000       0.000000       0.000000       1.000000   \n",
       "50%         0.000000       0.000000       0.000000       1.000000   \n",
       "75%         0.000000       1.000000       1.000000       1.000000   \n",
       "max         2.000000       1.000000       1.000000       1.000000   \n",
       "\n",
       "                 BMI         Smoker         Stroke  HeartDiseaseorAttack  \\\n",
       "count  253680.000000  253680.000000  253680.000000         253680.000000   \n",
       "mean       28.382364       0.443169       0.040571              0.094186   \n",
       "std         6.608694       0.496761       0.197294              0.292087   \n",
       "min        12.000000       0.000000       0.000000              0.000000   \n",
       "25%        24.000000       0.000000       0.000000              0.000000   \n",
       "50%        27.000000       0.000000       0.000000              0.000000   \n",
       "75%        31.000000       1.000000       0.000000              0.000000   \n",
       "max        98.000000       1.000000       1.000000              1.000000   \n",
       "\n",
       "        PhysActivity         Fruits  ...  AnyHealthcare    NoDocbcCost  \\\n",
       "count  253680.000000  253680.000000  ...  253680.000000  253680.000000   \n",
       "mean        0.756544       0.634256  ...       0.951053       0.084177   \n",
       "std         0.429169       0.481639  ...       0.215759       0.277654   \n",
       "min         0.000000       0.000000  ...       0.000000       0.000000   \n",
       "25%         1.000000       0.000000  ...       1.000000       0.000000   \n",
       "50%         1.000000       1.000000  ...       1.000000       0.000000   \n",
       "75%         1.000000       1.000000  ...       1.000000       0.000000   \n",
       "max         1.000000       1.000000  ...       1.000000       1.000000   \n",
       "\n",
       "             GenHlth       MentHlth       PhysHlth       DiffWalk  \\\n",
       "count  253680.000000  253680.000000  253680.000000  253680.000000   \n",
       "mean        2.511392       3.184772       4.242081       0.168224   \n",
       "std         1.068477       7.412847       8.717951       0.374066   \n",
       "min         1.000000       0.000000       0.000000       0.000000   \n",
       "25%         2.000000       0.000000       0.000000       0.000000   \n",
       "50%         2.000000       0.000000       0.000000       0.000000   \n",
       "75%         3.000000       2.000000       3.000000       0.000000   \n",
       "max         5.000000      30.000000      30.000000       1.000000   \n",
       "\n",
       "                 Sex            Age      Education         Income  \n",
       "count  253680.000000  253680.000000  253680.000000  253680.000000  \n",
       "mean        0.440342       8.032119       5.050434       6.053875  \n",
       "std         0.496429       3.054220       0.985774       2.071148  \n",
       "min         0.000000       1.000000       1.000000       1.000000  \n",
       "25%         0.000000       6.000000       4.000000       5.000000  \n",
       "50%         0.000000       8.000000       5.000000       7.000000  \n",
       "75%         1.000000      10.000000       6.000000       8.000000  \n",
       "max         1.000000      13.000000       6.000000       8.000000  \n",
       "\n",
       "[8 rows x 22 columns]"
      ]
     },
     "execution_count": 6,
     "metadata": {},
     "output_type": "execute_result"
    }
   ],
   "source": [
    "df.describe(include='all')"
   ]
  },
  {
   "cell_type": "code",
   "execution_count": 7,
   "id": "aacc0b7b",
   "metadata": {},
   "outputs": [
    {
     "data": {
      "text/plain": [
       "Diabetes_012            0\n",
       "HighBP                  0\n",
       "HighChol                0\n",
       "CholCheck               0\n",
       "BMI                     0\n",
       "Smoker                  0\n",
       "Stroke                  0\n",
       "HeartDiseaseorAttack    0\n",
       "PhysActivity            0\n",
       "Fruits                  0\n",
       "Veggies                 0\n",
       "HvyAlcoholConsump       0\n",
       "AnyHealthcare           0\n",
       "NoDocbcCost             0\n",
       "GenHlth                 0\n",
       "MentHlth                0\n",
       "PhysHlth                0\n",
       "DiffWalk                0\n",
       "Sex                     0\n",
       "Age                     0\n",
       "Education               0\n",
       "Income                  0\n",
       "dtype: int64"
      ]
     },
     "execution_count": 7,
     "metadata": {},
     "output_type": "execute_result"
    }
   ],
   "source": [
    "df.isna().sum()"
   ]
  },
  {
   "cell_type": "code",
   "execution_count": 8,
   "id": "a7b72f89",
   "metadata": {},
   "outputs": [
    {
     "name": "stdout",
     "output_type": "stream",
     "text": [
      "valores de Diabetes_012 : [0. 2. 1.]\n",
      "valores de HighBP : [1. 0.]\n",
      "valores de HighChol : [1. 0.]\n",
      "valores de CholCheck : [1. 0.]\n",
      "valores de BMI : [40. 25. 28. 27. 24. 30. 34. 26. 33. 21. 23. 22. 38. 32. 37. 31. 29. 20.\n",
      " 35. 45. 39. 19. 47. 18. 36. 43. 55. 49. 42. 17. 16. 41. 44. 50. 59. 48.\n",
      " 52. 46. 54. 57. 53. 14. 15. 51. 58. 63. 61. 56. 74. 62. 64. 66. 73. 85.\n",
      " 60. 67. 65. 70. 82. 79. 92. 68. 72. 88. 96. 13. 81. 71. 75. 12. 77. 69.\n",
      " 76. 87. 89. 84. 95. 98. 91. 86. 83. 80. 90. 78.]\n",
      "valores de Smoker : [1. 0.]\n",
      "valores de Stroke : [0. 1.]\n",
      "valores de HeartDiseaseorAttack : [0. 1.]\n",
      "valores de PhysActivity : [0. 1.]\n",
      "valores de Fruits : [0. 1.]\n",
      "valores de Veggies : [1. 0.]\n",
      "valores de HvyAlcoholConsump : [0. 1.]\n",
      "valores de AnyHealthcare : [1. 0.]\n",
      "valores de NoDocbcCost : [0. 1.]\n",
      "valores de GenHlth : [5. 3. 2. 4. 1.]\n",
      "valores de MentHlth : [18.  0. 30.  3.  5. 15. 10.  6. 20.  2. 25.  1.  4.  7.  8. 21. 14. 26.\n",
      " 29. 16. 28. 11. 12. 24. 17. 13. 27. 19. 22.  9. 23.]\n",
      "valores de PhysHlth : [15.  0. 30.  2. 14. 28.  7. 20.  3. 10.  1.  5. 17.  4. 19.  6. 12. 25.\n",
      " 27. 21. 22.  8. 29. 24.  9. 16. 18. 23. 13. 26. 11.]\n",
      "valores de DiffWalk : [1. 0.]\n",
      "valores de Sex : [0. 1.]\n",
      "valores de Age : [ 9.  7. 11. 10.  8. 13.  4.  6.  2. 12.  5.  1.  3.]\n",
      "valores de Education : [4. 6. 3. 5. 2. 1.]\n",
      "valores de Income : [3. 1. 8. 6. 4. 7. 2. 5.]\n"
     ]
    }
   ],
   "source": [
    "for column in df.columns:\n",
    "    print(\"valores de\", column,\":\",  df[column].unique())"
   ]
  },
  {
   "cell_type": "markdown",
   "id": "f4a195b3",
   "metadata": {},
   "source": [
    "Para conocer un poco más de los datos, podemos hacer diversos tipos de gráficos, por ejemplo para datos categóricos podemos hacer gráficos de torta o de barras, acá mostramos estos gráficos para las columnas education y job. Para las variables continuas podemos hacer histogramas que nos muestran su distribución. Acá lo estamos realizando para las columnas duration y balance."
   ]
  },
  {
   "cell_type": "code",
   "execution_count": 9,
   "id": "c70238b0",
   "metadata": {},
   "outputs": [
    {
     "name": "stdout",
     "output_type": "stream",
     "text": [
      "Float64Index([0.0, 2.0, 1.0], dtype='float64')\n",
      "[213703  35346   4631]\n"
     ]
    },
    {
     "data": {
      "image/png": "[encoded data removed]",
      "text/plain": [
       "<Figure size 640x480 with 1 Axes>"
      ]
     },
     "metadata": {},
     "output_type": "display_data"
    }
   ],
   "source": [
    "Diabetes_012_categorias = df['Diabetes_012'].value_counts().index\n",
    "print(Diabetes_012_categorias)\n",
    "Diabetes_012_valores = df['Diabetes_012'].value_counts().values\n",
    "print(Diabetes_012_valores)\n",
    "fig, axs = plt.subplots()\n",
    "\n",
    "axs.bar(Diabetes_012_categorias, Diabetes_012_valores, color='green')\n",
    "axs.set_title('Distribución de casos de diabetes')\n",
    "axs.tick_params(axis='x', rotation=45)\n",
    "\n",
    "plt.tight_layout()"
   ]
  },
  {
   "cell_type": "markdown",
   "id": "0662a048",
   "metadata": {},
   "source": [
    "En el gráfico se puede ver las cantidades de cada categoría de la variable de interés. tenemos un grupo de datos desbalanceado, muchas observaciones de la categoría 0(Sanos: 213703, 84%) y menos cantidad de la categoría 2(Diabetes: 35346, 14%) y mucho menos de la categoría 1 (prediabetes: 4631, menos del 2%. Por ser poco significativos los casos de prediabetes. Vamos a dejarlos fuera de este estudio, ya que el objetivo será clasificar entre individuo sano y con diabetes, sin dejar de tener en cuenta que trabajamos con datos desbalanceados."
   ]
  },
  {
   "cell_type": "code",
   "execution_count": 10,
   "id": "7ad5e1da",
   "metadata": {},
   "outputs": [
    {
     "name": "stdout",
     "output_type": "stream",
     "text": [
      "0.018255282245348472\n",
      "0.13933301797540207\n",
      "0.8424116997792495\n"
     ]
    }
   ],
   "source": [
    "print(4631/(213703+35346+4631))\n",
    "print(35346/(213703+35346+4631))\n",
    "print(213703/(213703+35346+4631))"
   ]
  },
  {
   "cell_type": "code",
   "execution_count": 11,
   "id": "a246c630",
   "metadata": {},
   "outputs": [],
   "source": [
    "df['Diabetes_012'] = df['Diabetes_012'].apply(lambda x: pd.NA if x == 1.0 else x)\n",
    "df.dropna(subset=['Diabetes_012'], inplace=True)\n",
    "\n",
    "df['Diabetes_012'] = df['Diabetes_012'].apply(lambda x: 1.0 if x == 2.0 else x)\n"
   ]
  },
  {
   "cell_type": "code",
   "execution_count": 12,
   "id": "ea81c33e",
   "metadata": {},
   "outputs": [
    {
     "data": {
      "text/html": [
       "<div>\n",
       "<style scoped>\n",
       "    .dataframe tbody tr th:only-of-type {\n",
       "        vertical-align: middle;\n",
       "    }\n",
       "\n",
       "    .dataframe tbody tr th {\n",
       "        vertical-align: top;\n",
       "    }\n",
       "\n",
       "    .dataframe thead th {\n",
       "        text-align: right;\n",
       "    }\n",
       "</style>\n",
       "<table border=\"1\" class=\"dataframe\">\n",
       "  <thead>\n",
       "    <tr style=\"text-align: right;\">\n",
       "      <th></th>\n",
       "      <th>Diabetes_012</th>\n",
       "      <th>HighBP</th>\n",
       "      <th>HighChol</th>\n",
       "      <th>CholCheck</th>\n",
       "      <th>BMI</th>\n",
       "      <th>Smoker</th>\n",
       "      <th>Stroke</th>\n",
       "      <th>HeartDiseaseorAttack</th>\n",
       "      <th>PhysActivity</th>\n",
       "      <th>Fruits</th>\n",
       "      <th>...</th>\n",
       "      <th>AnyHealthcare</th>\n",
       "      <th>NoDocbcCost</th>\n",
       "      <th>GenHlth</th>\n",
       "      <th>MentHlth</th>\n",
       "      <th>PhysHlth</th>\n",
       "      <th>DiffWalk</th>\n",
       "      <th>Sex</th>\n",
       "      <th>Age</th>\n",
       "      <th>Education</th>\n",
       "      <th>Income</th>\n",
       "    </tr>\n",
       "  </thead>\n",
       "  <tbody>\n",
       "    <tr>\n",
       "      <th>0</th>\n",
       "      <td>0.0</td>\n",
       "      <td>1.0</td>\n",
       "      <td>1.0</td>\n",
       "      <td>1.0</td>\n",
       "      <td>40.0</td>\n",
       "      <td>1.0</td>\n",
       "      <td>0.0</td>\n",
       "      <td>0.0</td>\n",
       "      <td>0.0</td>\n",
       "      <td>0.0</td>\n",
       "      <td>...</td>\n",
       "      <td>1.0</td>\n",
       "      <td>0.0</td>\n",
       "      <td>5.0</td>\n",
       "      <td>18.0</td>\n",
       "      <td>15.0</td>\n",
       "      <td>1.0</td>\n",
       "      <td>0.0</td>\n",
       "      <td>9.0</td>\n",
       "      <td>4.0</td>\n",
       "      <td>3.0</td>\n",
       "    </tr>\n",
       "    <tr>\n",
       "      <th>1</th>\n",
       "      <td>0.0</td>\n",
       "      <td>0.0</td>\n",
       "      <td>0.0</td>\n",
       "      <td>0.0</td>\n",
       "      <td>25.0</td>\n",
       "      <td>1.0</td>\n",
       "      <td>0.0</td>\n",
       "      <td>0.0</td>\n",
       "      <td>1.0</td>\n",
       "      <td>0.0</td>\n",
       "      <td>...</td>\n",
       "      <td>0.0</td>\n",
       "      <td>1.0</td>\n",
       "      <td>3.0</td>\n",
       "      <td>0.0</td>\n",
       "      <td>0.0</td>\n",
       "      <td>0.0</td>\n",
       "      <td>0.0</td>\n",
       "      <td>7.0</td>\n",
       "      <td>6.0</td>\n",
       "      <td>1.0</td>\n",
       "    </tr>\n",
       "    <tr>\n",
       "      <th>2</th>\n",
       "      <td>0.0</td>\n",
       "      <td>1.0</td>\n",
       "      <td>1.0</td>\n",
       "      <td>1.0</td>\n",
       "      <td>28.0</td>\n",
       "      <td>0.0</td>\n",
       "      <td>0.0</td>\n",
       "      <td>0.0</td>\n",
       "      <td>0.0</td>\n",
       "      <td>1.0</td>\n",
       "      <td>...</td>\n",
       "      <td>1.0</td>\n",
       "      <td>1.0</td>\n",
       "      <td>5.0</td>\n",
       "      <td>30.0</td>\n",
       "      <td>30.0</td>\n",
       "      <td>1.0</td>\n",
       "      <td>0.0</td>\n",
       "      <td>9.0</td>\n",
       "      <td>4.0</td>\n",
       "      <td>8.0</td>\n",
       "    </tr>\n",
       "    <tr>\n",
       "      <th>3</th>\n",
       "      <td>0.0</td>\n",
       "      <td>1.0</td>\n",
       "      <td>0.0</td>\n",
       "      <td>1.0</td>\n",
       "      <td>27.0</td>\n",
       "      <td>0.0</td>\n",
       "      <td>0.0</td>\n",
       "      <td>0.0</td>\n",
       "      <td>1.0</td>\n",
       "      <td>1.0</td>\n",
       "      <td>...</td>\n",
       "      <td>1.0</td>\n",
       "      <td>0.0</td>\n",
       "      <td>2.0</td>\n",
       "      <td>0.0</td>\n",
       "      <td>0.0</td>\n",
       "      <td>0.0</td>\n",
       "      <td>0.0</td>\n",
       "      <td>11.0</td>\n",
       "      <td>3.0</td>\n",
       "      <td>6.0</td>\n",
       "    </tr>\n",
       "    <tr>\n",
       "      <th>4</th>\n",
       "      <td>0.0</td>\n",
       "      <td>1.0</td>\n",
       "      <td>1.0</td>\n",
       "      <td>1.0</td>\n",
       "      <td>24.0</td>\n",
       "      <td>0.0</td>\n",
       "      <td>0.0</td>\n",
       "      <td>0.0</td>\n",
       "      <td>1.0</td>\n",
       "      <td>1.0</td>\n",
       "      <td>...</td>\n",
       "      <td>1.0</td>\n",
       "      <td>0.0</td>\n",
       "      <td>2.0</td>\n",
       "      <td>3.0</td>\n",
       "      <td>0.0</td>\n",
       "      <td>0.0</td>\n",
       "      <td>0.0</td>\n",
       "      <td>11.0</td>\n",
       "      <td>5.0</td>\n",
       "      <td>4.0</td>\n",
       "    </tr>\n",
       "    <tr>\n",
       "      <th>...</th>\n",
       "      <td>...</td>\n",
       "      <td>...</td>\n",
       "      <td>...</td>\n",
       "      <td>...</td>\n",
       "      <td>...</td>\n",
       "      <td>...</td>\n",
       "      <td>...</td>\n",
       "      <td>...</td>\n",
       "      <td>...</td>\n",
       "      <td>...</td>\n",
       "      <td>...</td>\n",
       "      <td>...</td>\n",
       "      <td>...</td>\n",
       "      <td>...</td>\n",
       "      <td>...</td>\n",
       "      <td>...</td>\n",
       "      <td>...</td>\n",
       "      <td>...</td>\n",
       "      <td>...</td>\n",
       "      <td>...</td>\n",
       "      <td>...</td>\n",
       "    </tr>\n",
       "    <tr>\n",
       "      <th>253675</th>\n",
       "      <td>0.0</td>\n",
       "      <td>1.0</td>\n",
       "      <td>1.0</td>\n",
       "      <td>1.0</td>\n",
       "      <td>45.0</td>\n",
       "      <td>0.0</td>\n",
       "      <td>0.0</td>\n",
       "      <td>0.0</td>\n",
       "      <td>0.0</td>\n",
       "      <td>1.0</td>\n",
       "      <td>...</td>\n",
       "      <td>1.0</td>\n",
       "      <td>0.0</td>\n",
       "      <td>3.0</td>\n",
       "      <td>0.0</td>\n",
       "      <td>5.0</td>\n",
       "      <td>0.0</td>\n",
       "      <td>1.0</td>\n",
       "      <td>5.0</td>\n",
       "      <td>6.0</td>\n",
       "      <td>7.0</td>\n",
       "    </tr>\n",
       "    <tr>\n",
       "      <th>253676</th>\n",
       "      <td>1.0</td>\n",
       "      <td>1.0</td>\n",
       "      <td>1.0</td>\n",
       "      <td>1.0</td>\n",
       "      <td>18.0</td>\n",
       "      <td>0.0</td>\n",
       "      <td>0.0</td>\n",
       "      <td>0.0</td>\n",
       "      <td>0.0</td>\n",
       "      <td>0.0</td>\n",
       "      <td>...</td>\n",
       "      <td>1.0</td>\n",
       "      <td>0.0</td>\n",
       "      <td>4.0</td>\n",
       "      <td>0.0</td>\n",
       "      <td>0.0</td>\n",
       "      <td>1.0</td>\n",
       "      <td>0.0</td>\n",
       "      <td>11.0</td>\n",
       "      <td>2.0</td>\n",
       "      <td>4.0</td>\n",
       "    </tr>\n",
       "    <tr>\n",
       "      <th>253677</th>\n",
       "      <td>0.0</td>\n",
       "      <td>0.0</td>\n",
       "      <td>0.0</td>\n",
       "      <td>1.0</td>\n",
       "      <td>28.0</td>\n",
       "      <td>0.0</td>\n",
       "      <td>0.0</td>\n",
       "      <td>0.0</td>\n",
       "      <td>1.0</td>\n",
       "      <td>1.0</td>\n",
       "      <td>...</td>\n",
       "      <td>1.0</td>\n",
       "      <td>0.0</td>\n",
       "      <td>1.0</td>\n",
       "      <td>0.0</td>\n",
       "      <td>0.0</td>\n",
       "      <td>0.0</td>\n",
       "      <td>0.0</td>\n",
       "      <td>2.0</td>\n",
       "      <td>5.0</td>\n",
       "      <td>2.0</td>\n",
       "    </tr>\n",
       "    <tr>\n",
       "      <th>253678</th>\n",
       "      <td>0.0</td>\n",
       "      <td>1.0</td>\n",
       "      <td>0.0</td>\n",
       "      <td>1.0</td>\n",
       "      <td>23.0</td>\n",
       "      <td>0.0</td>\n",
       "      <td>0.0</td>\n",
       "      <td>0.0</td>\n",
       "      <td>0.0</td>\n",
       "      <td>1.0</td>\n",
       "      <td>...</td>\n",
       "      <td>1.0</td>\n",
       "      <td>0.0</td>\n",
       "      <td>3.0</td>\n",
       "      <td>0.0</td>\n",
       "      <td>0.0</td>\n",
       "      <td>0.0</td>\n",
       "      <td>1.0</td>\n",
       "      <td>7.0</td>\n",
       "      <td>5.0</td>\n",
       "      <td>1.0</td>\n",
       "    </tr>\n",
       "    <tr>\n",
       "      <th>253679</th>\n",
       "      <td>1.0</td>\n",
       "      <td>1.0</td>\n",
       "      <td>1.0</td>\n",
       "      <td>1.0</td>\n",
       "      <td>25.0</td>\n",
       "      <td>0.0</td>\n",
       "      <td>0.0</td>\n",
       "      <td>1.0</td>\n",
       "      <td>1.0</td>\n",
       "      <td>1.0</td>\n",
       "      <td>...</td>\n",
       "      <td>1.0</td>\n",
       "      <td>0.0</td>\n",
       "      <td>2.0</td>\n",
       "      <td>0.0</td>\n",
       "      <td>0.0</td>\n",
       "      <td>0.0</td>\n",
       "      <td>0.0</td>\n",
       "      <td>9.0</td>\n",
       "      <td>6.0</td>\n",
       "      <td>2.0</td>\n",
       "    </tr>\n",
       "  </tbody>\n",
       "</table>\n",
       "<p>249049 rows × 22 columns</p>\n",
       "</div>"
      ],
      "text/plain": [
       "        Diabetes_012  HighBP  HighChol  CholCheck   BMI  Smoker  Stroke  \\\n",
       "0                0.0     1.0       1.0        1.0  40.0     1.0     0.0   \n",
       "1                0.0     0.0       0.0        0.0  25.0     1.0     0.0   \n",
       "2                0.0     1.0       1.0        1.0  28.0     0.0     0.0   \n",
       "3                0.0     1.0       0.0        1.0  27.0     0.0     0.0   \n",
       "4                0.0     1.0       1.0        1.0  24.0     0.0     0.0   \n",
       "...              ...     ...       ...        ...   ...     ...     ...   \n",
       "253675           0.0     1.0       1.0        1.0  45.0     0.0     0.0   \n",
       "253676           1.0     1.0       1.0        1.0  18.0     0.0     0.0   \n",
       "253677           0.0     0.0       0.0        1.0  28.0     0.0     0.0   \n",
       "253678           0.0     1.0       0.0        1.0  23.0     0.0     0.0   \n",
       "253679           1.0     1.0       1.0        1.0  25.0     0.0     0.0   \n",
       "\n",
       "        HeartDiseaseorAttack  PhysActivity  Fruits  ...  AnyHealthcare  \\\n",
       "0                        0.0           0.0     0.0  ...            1.0   \n",
       "1                        0.0           1.0     0.0  ...            0.0   \n",
       "2                        0.0           0.0     1.0  ...            1.0   \n",
       "3                        0.0           1.0     1.0  ...            1.0   \n",
       "4                        0.0           1.0     1.0  ...            1.0   \n",
       "...                      ...           ...     ...  ...            ...   \n",
       "253675                   0.0           0.0     1.0  ...            1.0   \n",
       "253676                   0.0           0.0     0.0  ...            1.0   \n",
       "253677                   0.0           1.0     1.0  ...            1.0   \n",
       "253678                   0.0           0.0     1.0  ...            1.0   \n",
       "253679                   1.0           1.0     1.0  ...            1.0   \n",
       "\n",
       "        NoDocbcCost  GenHlth  MentHlth  PhysHlth  DiffWalk  Sex   Age  \\\n",
       "0               0.0      5.0      18.0      15.0       1.0  0.0   9.0   \n",
       "1               1.0      3.0       0.0       0.0       0.0  0.0   7.0   \n",
       "2               1.0      5.0      30.0      30.0       1.0  0.0   9.0   \n",
       "3               0.0      2.0       0.0       0.0       0.0  0.0  11.0   \n",
       "4               0.0      2.0       3.0       0.0       0.0  0.0  11.0   \n",
       "...             ...      ...       ...       ...       ...  ...   ...   \n",
       "253675          0.0      3.0       0.0       5.0       0.0  1.0   5.0   \n",
       "253676          0.0      4.0       0.0       0.0       1.0  0.0  11.0   \n",
       "253677          0.0      1.0       0.0       0.0       0.0  0.0   2.0   \n",
       "253678          0.0      3.0       0.0       0.0       0.0  1.0   7.0   \n",
       "253679          0.0      2.0       0.0       0.0       0.0  0.0   9.0   \n",
       "\n",
       "        Education  Income  \n",
       "0             4.0     3.0  \n",
       "1             6.0     1.0  \n",
       "2             4.0     8.0  \n",
       "3             3.0     6.0  \n",
       "4             5.0     4.0  \n",
       "...           ...     ...  \n",
       "253675        6.0     7.0  \n",
       "253676        2.0     4.0  \n",
       "253677        5.0     2.0  \n",
       "253678        5.0     1.0  \n",
       "253679        6.0     2.0  \n",
       "\n",
       "[249049 rows x 22 columns]"
      ]
     },
     "execution_count": 12,
     "metadata": {},
     "output_type": "execute_result"
    }
   ],
   "source": [
    "df"
   ]
  },
  {
   "cell_type": "code",
   "execution_count": 12,
   "id": "6bdad542",
   "metadata": {},
   "outputs": [
    {
     "name": "stdout",
     "output_type": "stream",
     "text": [
      "Float64Index([0.0, 1.0], dtype='float64')\n",
      "[213703  35346]\n"
     ]
    },
    {
     "data": {
      "image/png": "[encoded data removed]",
      "text/plain": [
       "<Figure size 640x480 with 1 Axes>"
      ]
     },
     "metadata": {},
     "output_type": "display_data"
    }
   ],
   "source": [
    "Diabetes_012_categorias = df['Diabetes_012'].value_counts().index\n",
    "print(Diabetes_012_categorias)\n",
    "Diabetes_012_valores = df['Diabetes_012'].value_counts().values\n",
    "print(Diabetes_012_valores)\n",
    "fig, axs = plt.subplots()\n",
    "\n",
    "axs.bar(Diabetes_012_categorias, Diabetes_012_valores, color='green')\n",
    "axs.set_title('Distribución de casos de diabetes')\n",
    "axs.tick_params(axis='x', rotation=45)\n",
    "\n",
    "plt.tight_layout()"
   ]
  },
  {
   "cell_type": "markdown",
   "id": "38fd252a",
   "metadata": {},
   "source": [
    "Acá obtenemos el gráfico luego de eliminar los casos de prediabetes y quedarnos con sólo las categorías Sano y Diabetes, en un estudio posterior se podría unir el caso prediabetes al de diabetes y comparar resultados.  "
   ]
  },
  {
   "cell_type": "code",
   "execution_count": 13,
   "id": "7513b360",
   "metadata": {},
   "outputs": [
    {
     "data": {
      "text/plain": [
       "Text(0.5, 1.0, 'Histograma de BMI')"
      ]
     },
     "execution_count": 13,
     "metadata": {},
     "output_type": "execute_result"
    },
    {
     "data": {
      "image/png": "[encoded data removed]",
      "text/plain": [
       "<Figure size 640x480 with 1 Axes>"
      ]
     },
     "metadata": {},
     "output_type": "display_data"
    }
   ],
   "source": [
    "fig, axes = plt.subplots()  \n",
    "# Histograma para la columna \"BMI\"\n",
    "sns.histplot(df[\"BMI\"], kde=False, color='purple')\n",
    "axes.set_xlabel('BMI')\n",
    "axes.set_ylabel('Frecuencia')\n",
    "axes.set_title('Histograma de BMI')"
   ]
  },
  {
   "cell_type": "code",
   "execution_count": 14,
   "id": "ffa4a44a",
   "metadata": {},
   "outputs": [
    {
     "name": "stdout",
     "output_type": "stream",
     "text": [
      "Float64Index([2.0, 3.0, 1.0, 4.0, 5.0], dtype='float64')\n",
      "[87870 73918 44986 30545 11730]\n"
     ]
    },
    {
     "data": {
      "image/png": "[encoded data removed]",
      "text/plain": [
       "<Figure size 1200x1200 with 4 Axes>"
      ]
     },
     "metadata": {},
     "output_type": "display_data"
    }
   ],
   "source": [
    "fig, axes = plt.subplots(2, 2, figsize=(12, 12))  # 2 filas y 2 columnas de subplots\n",
    "\n",
    "GenHlth_categorias = df['GenHlth'].value_counts().index\n",
    "print(GenHlth_categorias)\n",
    "GenHlth_valores = df['GenHlth'].value_counts().values\n",
    "print(GenHlth_valores)\n",
    "axes[0,0].bar(GenHlth_categorias, GenHlth_valores, color='purple')\n",
    "axes[0,0].set_title('Distribución de Sensación de salud ')\n",
    "axes[0,0].tick_params(axis='x', rotation=45)\n",
    "\n",
    "\n",
    "sns.histplot(df[\"MentHlth\"], kde=False, color='green', ax=axes[0, 1])\n",
    "axes[0, 1].set_xlabel('días')\n",
    "axes[0, 1].set_ylabel('Frecuencia')\n",
    "axes[0, 1].set_title('Histograma de Salud mental')\n",
    "\n",
    "\n",
    "sns.histplot(df[\"PhysHlth\"], kde=False, color='orange', ax=axes[1, 0])\n",
    "axes[1, 0].set_xlabel('días')\n",
    "axes[1, 0].set_ylabel('Frecuencia')\n",
    "axes[1, 0].set_title('Histograma de Salud física')\n",
    "\n",
    "sns.histplot(df[\"Age\"], kde=False, color='red', ax=axes[1, 1])\n",
    "axes[1, 1].set_xlabel('grupo etario')\n",
    "axes[1, 1].set_ylabel('Frecuencia')\n",
    "axes[1, 1].set_title('Histograma de Edades')\n",
    "\n",
    "plt.tight_layout()"
   ]
  },
  {
   "cell_type": "markdown",
   "id": "8008ca42",
   "metadata": {},
   "source": [
    "Todas las variables con las que estamos trabajando son categóricas salvo 3, estas son BMI, MentHlth, PhysHlth. Ya que por ejemplo Age está categorizada. Aplicaremos la normalizació por StandarScaleren el caso de BMI. Esto por tener una distribución más cercana a la normal. Pero en el caso de MentHlth, PhysHlth, aplicaremos la normalización por MinMaxScaler."
   ]
  },
  {
   "cell_type": "code",
   "execution_count": 15,
   "id": "d9b859e3",
   "metadata": {},
   "outputs": [
    {
     "data": {
      "text/html": [
       "<div>\n",
       "<style scoped>\n",
       "    .dataframe tbody tr th:only-of-type {\n",
       "        vertical-align: middle;\n",
       "    }\n",
       "\n",
       "    .dataframe tbody tr th {\n",
       "        vertical-align: top;\n",
       "    }\n",
       "\n",
       "    .dataframe thead th {\n",
       "        text-align: right;\n",
       "    }\n",
       "</style>\n",
       "<table border=\"1\" class=\"dataframe\">\n",
       "  <thead>\n",
       "    <tr style=\"text-align: right;\">\n",
       "      <th></th>\n",
       "      <th>BMI</th>\n",
       "    </tr>\n",
       "  </thead>\n",
       "  <tbody>\n",
       "    <tr>\n",
       "      <th>0</th>\n",
       "      <td>1.768450</td>\n",
       "    </tr>\n",
       "    <tr>\n",
       "      <th>1</th>\n",
       "      <td>-0.506340</td>\n",
       "    </tr>\n",
       "    <tr>\n",
       "      <th>2</th>\n",
       "      <td>-0.051382</td>\n",
       "    </tr>\n",
       "    <tr>\n",
       "      <th>3</th>\n",
       "      <td>-0.203034</td>\n",
       "    </tr>\n",
       "    <tr>\n",
       "      <th>4</th>\n",
       "      <td>-0.657992</td>\n",
       "    </tr>\n",
       "    <tr>\n",
       "      <th>...</th>\n",
       "      <td>...</td>\n",
       "    </tr>\n",
       "    <tr>\n",
       "      <th>249044</th>\n",
       "      <td>2.526713</td>\n",
       "    </tr>\n",
       "    <tr>\n",
       "      <th>249045</th>\n",
       "      <td>-1.567908</td>\n",
       "    </tr>\n",
       "    <tr>\n",
       "      <th>249046</th>\n",
       "      <td>-0.051382</td>\n",
       "    </tr>\n",
       "    <tr>\n",
       "      <th>249047</th>\n",
       "      <td>-0.809645</td>\n",
       "    </tr>\n",
       "    <tr>\n",
       "      <th>249048</th>\n",
       "      <td>-0.506340</td>\n",
       "    </tr>\n",
       "  </tbody>\n",
       "</table>\n",
       "<p>249049 rows × 1 columns</p>\n",
       "</div>"
      ],
      "text/plain": [
       "             BMI\n",
       "0       1.768450\n",
       "1      -0.506340\n",
       "2      -0.051382\n",
       "3      -0.203034\n",
       "4      -0.657992\n",
       "...          ...\n",
       "249044  2.526713\n",
       "249045 -1.567908\n",
       "249046 -0.051382\n",
       "249047 -0.809645\n",
       "249048 -0.506340\n",
       "\n",
       "[249049 rows x 1 columns]"
      ]
     },
     "execution_count": 15,
     "metadata": {},
     "output_type": "execute_result"
    }
   ],
   "source": [
    "columns_to_normalize_standar_scaler = ['BMI']\n",
    "\n",
    "data_to_normalize = df[columns_to_normalize_standar_scaler]\n",
    "\n",
    "scaler1 = StandardScaler()\n",
    "scaled_data = scaler1.fit_transform(data_to_normalize)\n",
    "\n",
    "df_normalized1 = pd.DataFrame(scaled_data, columns=columns_to_normalize_standar_scaler)\n",
    "\n",
    "df_normalized1"
   ]
  },
  {
   "cell_type": "code",
   "execution_count": 16,
   "id": "4a11f50d",
   "metadata": {},
   "outputs": [
    {
     "data": {
      "text/html": [
       "<div>\n",
       "<style scoped>\n",
       "    .dataframe tbody tr th:only-of-type {\n",
       "        vertical-align: middle;\n",
       "    }\n",
       "\n",
       "    .dataframe tbody tr th {\n",
       "        vertical-align: top;\n",
       "    }\n",
       "\n",
       "    .dataframe thead th {\n",
       "        text-align: right;\n",
       "    }\n",
       "</style>\n",
       "<table border=\"1\" class=\"dataframe\">\n",
       "  <thead>\n",
       "    <tr style=\"text-align: right;\">\n",
       "      <th></th>\n",
       "      <th>MentHlth</th>\n",
       "      <th>PhysHlth</th>\n",
       "    </tr>\n",
       "  </thead>\n",
       "  <tbody>\n",
       "    <tr>\n",
       "      <th>0</th>\n",
       "      <td>0.6</td>\n",
       "      <td>0.500000</td>\n",
       "    </tr>\n",
       "    <tr>\n",
       "      <th>1</th>\n",
       "      <td>0.0</td>\n",
       "      <td>0.000000</td>\n",
       "    </tr>\n",
       "    <tr>\n",
       "      <th>2</th>\n",
       "      <td>1.0</td>\n",
       "      <td>1.000000</td>\n",
       "    </tr>\n",
       "    <tr>\n",
       "      <th>3</th>\n",
       "      <td>0.0</td>\n",
       "      <td>0.000000</td>\n",
       "    </tr>\n",
       "    <tr>\n",
       "      <th>4</th>\n",
       "      <td>0.1</td>\n",
       "      <td>0.000000</td>\n",
       "    </tr>\n",
       "    <tr>\n",
       "      <th>...</th>\n",
       "      <td>...</td>\n",
       "      <td>...</td>\n",
       "    </tr>\n",
       "    <tr>\n",
       "      <th>249044</th>\n",
       "      <td>0.0</td>\n",
       "      <td>0.166667</td>\n",
       "    </tr>\n",
       "    <tr>\n",
       "      <th>249045</th>\n",
       "      <td>0.0</td>\n",
       "      <td>0.000000</td>\n",
       "    </tr>\n",
       "    <tr>\n",
       "      <th>249046</th>\n",
       "      <td>0.0</td>\n",
       "      <td>0.000000</td>\n",
       "    </tr>\n",
       "    <tr>\n",
       "      <th>249047</th>\n",
       "      <td>0.0</td>\n",
       "      <td>0.000000</td>\n",
       "    </tr>\n",
       "    <tr>\n",
       "      <th>249048</th>\n",
       "      <td>0.0</td>\n",
       "      <td>0.000000</td>\n",
       "    </tr>\n",
       "  </tbody>\n",
       "</table>\n",
       "<p>249049 rows × 2 columns</p>\n",
       "</div>"
      ],
      "text/plain": [
       "        MentHlth  PhysHlth\n",
       "0            0.6  0.500000\n",
       "1            0.0  0.000000\n",
       "2            1.0  1.000000\n",
       "3            0.0  0.000000\n",
       "4            0.1  0.000000\n",
       "...          ...       ...\n",
       "249044       0.0  0.166667\n",
       "249045       0.0  0.000000\n",
       "249046       0.0  0.000000\n",
       "249047       0.0  0.000000\n",
       "249048       0.0  0.000000\n",
       "\n",
       "[249049 rows x 2 columns]"
      ]
     },
     "execution_count": 16,
     "metadata": {},
     "output_type": "execute_result"
    }
   ],
   "source": [
    "columns_to_normalize_min_max = ['MentHlth', 'PhysHlth']\n",
    "\n",
    "data_to_normalize2 = df[columns_to_normalize_min_max]\n",
    "\n",
    "scaler2 = MinMaxScaler()\n",
    "scaled_data2 = scaler2.fit_transform(data_to_normalize2)\n",
    "\n",
    "df_normalized2 = pd.DataFrame(scaled_data2, columns=columns_to_normalize_min_max)\n",
    "\n",
    "df_normalized2"
   ]
  },
  {
   "cell_type": "code",
   "execution_count": 17,
   "id": "5300289c",
   "metadata": {},
   "outputs": [],
   "source": [
    "df['BMI'] = df_normalized1['BMI']\n",
    "df['MentHlth'] = df_normalized2['MentHlth']\n",
    "df['PhysHlth'] = df_normalized2['PhysHlth']"
   ]
  },
  {
   "cell_type": "code",
   "execution_count": 19,
   "id": "5d1c2fe2",
   "metadata": {},
   "outputs": [
    {
     "data": {
      "text/html": [
       "<div>\n",
       "<style scoped>\n",
       "    .dataframe tbody tr th:only-of-type {\n",
       "        vertical-align: middle;\n",
       "    }\n",
       "\n",
       "    .dataframe tbody tr th {\n",
       "        vertical-align: top;\n",
       "    }\n",
       "\n",
       "    .dataframe thead th {\n",
       "        text-align: right;\n",
       "    }\n",
       "</style>\n",
       "<table border=\"1\" class=\"dataframe\">\n",
       "  <thead>\n",
       "    <tr style=\"text-align: right;\">\n",
       "      <th></th>\n",
       "      <th>Diabetes_012</th>\n",
       "      <th>HighBP</th>\n",
       "      <th>HighChol</th>\n",
       "      <th>CholCheck</th>\n",
       "      <th>BMI</th>\n",
       "      <th>Smoker</th>\n",
       "      <th>Stroke</th>\n",
       "      <th>HeartDiseaseorAttack</th>\n",
       "      <th>PhysActivity</th>\n",
       "      <th>Fruits</th>\n",
       "      <th>...</th>\n",
       "      <th>AnyHealthcare</th>\n",
       "      <th>NoDocbcCost</th>\n",
       "      <th>GenHlth</th>\n",
       "      <th>MentHlth</th>\n",
       "      <th>PhysHlth</th>\n",
       "      <th>DiffWalk</th>\n",
       "      <th>Sex</th>\n",
       "      <th>Age</th>\n",
       "      <th>Education</th>\n",
       "      <th>Income</th>\n",
       "    </tr>\n",
       "  </thead>\n",
       "  <tbody>\n",
       "    <tr>\n",
       "      <th>0</th>\n",
       "      <td>0.0</td>\n",
       "      <td>1.0</td>\n",
       "      <td>1.0</td>\n",
       "      <td>1.0</td>\n",
       "      <td>1.768450</td>\n",
       "      <td>1.0</td>\n",
       "      <td>0.0</td>\n",
       "      <td>0.0</td>\n",
       "      <td>0.0</td>\n",
       "      <td>0.0</td>\n",
       "      <td>...</td>\n",
       "      <td>1.0</td>\n",
       "      <td>0.0</td>\n",
       "      <td>5.0</td>\n",
       "      <td>0.6</td>\n",
       "      <td>0.5</td>\n",
       "      <td>1.0</td>\n",
       "      <td>0.0</td>\n",
       "      <td>9.0</td>\n",
       "      <td>4.0</td>\n",
       "      <td>3.0</td>\n",
       "    </tr>\n",
       "    <tr>\n",
       "      <th>1</th>\n",
       "      <td>0.0</td>\n",
       "      <td>0.0</td>\n",
       "      <td>0.0</td>\n",
       "      <td>0.0</td>\n",
       "      <td>-0.506340</td>\n",
       "      <td>1.0</td>\n",
       "      <td>0.0</td>\n",
       "      <td>0.0</td>\n",
       "      <td>1.0</td>\n",
       "      <td>0.0</td>\n",
       "      <td>...</td>\n",
       "      <td>0.0</td>\n",
       "      <td>1.0</td>\n",
       "      <td>3.0</td>\n",
       "      <td>0.0</td>\n",
       "      <td>0.0</td>\n",
       "      <td>0.0</td>\n",
       "      <td>0.0</td>\n",
       "      <td>7.0</td>\n",
       "      <td>6.0</td>\n",
       "      <td>1.0</td>\n",
       "    </tr>\n",
       "    <tr>\n",
       "      <th>2</th>\n",
       "      <td>0.0</td>\n",
       "      <td>1.0</td>\n",
       "      <td>1.0</td>\n",
       "      <td>1.0</td>\n",
       "      <td>-0.051382</td>\n",
       "      <td>0.0</td>\n",
       "      <td>0.0</td>\n",
       "      <td>0.0</td>\n",
       "      <td>0.0</td>\n",
       "      <td>1.0</td>\n",
       "      <td>...</td>\n",
       "      <td>1.0</td>\n",
       "      <td>1.0</td>\n",
       "      <td>5.0</td>\n",
       "      <td>1.0</td>\n",
       "      <td>1.0</td>\n",
       "      <td>1.0</td>\n",
       "      <td>0.0</td>\n",
       "      <td>9.0</td>\n",
       "      <td>4.0</td>\n",
       "      <td>8.0</td>\n",
       "    </tr>\n",
       "    <tr>\n",
       "      <th>3</th>\n",
       "      <td>0.0</td>\n",
       "      <td>1.0</td>\n",
       "      <td>0.0</td>\n",
       "      <td>1.0</td>\n",
       "      <td>-0.203034</td>\n",
       "      <td>0.0</td>\n",
       "      <td>0.0</td>\n",
       "      <td>0.0</td>\n",
       "      <td>1.0</td>\n",
       "      <td>1.0</td>\n",
       "      <td>...</td>\n",
       "      <td>1.0</td>\n",
       "      <td>0.0</td>\n",
       "      <td>2.0</td>\n",
       "      <td>0.0</td>\n",
       "      <td>0.0</td>\n",
       "      <td>0.0</td>\n",
       "      <td>0.0</td>\n",
       "      <td>11.0</td>\n",
       "      <td>3.0</td>\n",
       "      <td>6.0</td>\n",
       "    </tr>\n",
       "    <tr>\n",
       "      <th>4</th>\n",
       "      <td>0.0</td>\n",
       "      <td>1.0</td>\n",
       "      <td>1.0</td>\n",
       "      <td>1.0</td>\n",
       "      <td>-0.657992</td>\n",
       "      <td>0.0</td>\n",
       "      <td>0.0</td>\n",
       "      <td>0.0</td>\n",
       "      <td>1.0</td>\n",
       "      <td>1.0</td>\n",
       "      <td>...</td>\n",
       "      <td>1.0</td>\n",
       "      <td>0.0</td>\n",
       "      <td>2.0</td>\n",
       "      <td>0.1</td>\n",
       "      <td>0.0</td>\n",
       "      <td>0.0</td>\n",
       "      <td>0.0</td>\n",
       "      <td>11.0</td>\n",
       "      <td>5.0</td>\n",
       "      <td>4.0</td>\n",
       "    </tr>\n",
       "    <tr>\n",
       "      <th>...</th>\n",
       "      <td>...</td>\n",
       "      <td>...</td>\n",
       "      <td>...</td>\n",
       "      <td>...</td>\n",
       "      <td>...</td>\n",
       "      <td>...</td>\n",
       "      <td>...</td>\n",
       "      <td>...</td>\n",
       "      <td>...</td>\n",
       "      <td>...</td>\n",
       "      <td>...</td>\n",
       "      <td>...</td>\n",
       "      <td>...</td>\n",
       "      <td>...</td>\n",
       "      <td>...</td>\n",
       "      <td>...</td>\n",
       "      <td>...</td>\n",
       "      <td>...</td>\n",
       "      <td>...</td>\n",
       "      <td>...</td>\n",
       "      <td>...</td>\n",
       "    </tr>\n",
       "    <tr>\n",
       "      <th>253675</th>\n",
       "      <td>0.0</td>\n",
       "      <td>1.0</td>\n",
       "      <td>1.0</td>\n",
       "      <td>1.0</td>\n",
       "      <td>NaN</td>\n",
       "      <td>0.0</td>\n",
       "      <td>0.0</td>\n",
       "      <td>0.0</td>\n",
       "      <td>0.0</td>\n",
       "      <td>1.0</td>\n",
       "      <td>...</td>\n",
       "      <td>1.0</td>\n",
       "      <td>0.0</td>\n",
       "      <td>3.0</td>\n",
       "      <td>NaN</td>\n",
       "      <td>NaN</td>\n",
       "      <td>0.0</td>\n",
       "      <td>1.0</td>\n",
       "      <td>5.0</td>\n",
       "      <td>6.0</td>\n",
       "      <td>7.0</td>\n",
       "    </tr>\n",
       "    <tr>\n",
       "      <th>253676</th>\n",
       "      <td>1.0</td>\n",
       "      <td>1.0</td>\n",
       "      <td>1.0</td>\n",
       "      <td>1.0</td>\n",
       "      <td>NaN</td>\n",
       "      <td>0.0</td>\n",
       "      <td>0.0</td>\n",
       "      <td>0.0</td>\n",
       "      <td>0.0</td>\n",
       "      <td>0.0</td>\n",
       "      <td>...</td>\n",
       "      <td>1.0</td>\n",
       "      <td>0.0</td>\n",
       "      <td>4.0</td>\n",
       "      <td>NaN</td>\n",
       "      <td>NaN</td>\n",
       "      <td>1.0</td>\n",
       "      <td>0.0</td>\n",
       "      <td>11.0</td>\n",
       "      <td>2.0</td>\n",
       "      <td>4.0</td>\n",
       "    </tr>\n",
       "    <tr>\n",
       "      <th>253677</th>\n",
       "      <td>0.0</td>\n",
       "      <td>0.0</td>\n",
       "      <td>0.0</td>\n",
       "      <td>1.0</td>\n",
       "      <td>NaN</td>\n",
       "      <td>0.0</td>\n",
       "      <td>0.0</td>\n",
       "      <td>0.0</td>\n",
       "      <td>1.0</td>\n",
       "      <td>1.0</td>\n",
       "      <td>...</td>\n",
       "      <td>1.0</td>\n",
       "      <td>0.0</td>\n",
       "      <td>1.0</td>\n",
       "      <td>NaN</td>\n",
       "      <td>NaN</td>\n",
       "      <td>0.0</td>\n",
       "      <td>0.0</td>\n",
       "      <td>2.0</td>\n",
       "      <td>5.0</td>\n",
       "      <td>2.0</td>\n",
       "    </tr>\n",
       "    <tr>\n",
       "      <th>253678</th>\n",
       "      <td>0.0</td>\n",
       "      <td>1.0</td>\n",
       "      <td>0.0</td>\n",
       "      <td>1.0</td>\n",
       "      <td>NaN</td>\n",
       "      <td>0.0</td>\n",
       "      <td>0.0</td>\n",
       "      <td>0.0</td>\n",
       "      <td>0.0</td>\n",
       "      <td>1.0</td>\n",
       "      <td>...</td>\n",
       "      <td>1.0</td>\n",
       "      <td>0.0</td>\n",
       "      <td>3.0</td>\n",
       "      <td>NaN</td>\n",
       "      <td>NaN</td>\n",
       "      <td>0.0</td>\n",
       "      <td>1.0</td>\n",
       "      <td>7.0</td>\n",
       "      <td>5.0</td>\n",
       "      <td>1.0</td>\n",
       "    </tr>\n",
       "    <tr>\n",
       "      <th>253679</th>\n",
       "      <td>1.0</td>\n",
       "      <td>1.0</td>\n",
       "      <td>1.0</td>\n",
       "      <td>1.0</td>\n",
       "      <td>NaN</td>\n",
       "      <td>0.0</td>\n",
       "      <td>0.0</td>\n",
       "      <td>1.0</td>\n",
       "      <td>1.0</td>\n",
       "      <td>1.0</td>\n",
       "      <td>...</td>\n",
       "      <td>1.0</td>\n",
       "      <td>0.0</td>\n",
       "      <td>2.0</td>\n",
       "      <td>NaN</td>\n",
       "      <td>NaN</td>\n",
       "      <td>0.0</td>\n",
       "      <td>0.0</td>\n",
       "      <td>9.0</td>\n",
       "      <td>6.0</td>\n",
       "      <td>2.0</td>\n",
       "    </tr>\n",
       "  </tbody>\n",
       "</table>\n",
       "<p>249049 rows × 22 columns</p>\n",
       "</div>"
      ],
      "text/plain": [
       "        Diabetes_012  HighBP  HighChol  CholCheck       BMI  Smoker  Stroke  \\\n",
       "0                0.0     1.0       1.0        1.0  1.768450     1.0     0.0   \n",
       "1                0.0     0.0       0.0        0.0 -0.506340     1.0     0.0   \n",
       "2                0.0     1.0       1.0        1.0 -0.051382     0.0     0.0   \n",
       "3                0.0     1.0       0.0        1.0 -0.203034     0.0     0.0   \n",
       "4                0.0     1.0       1.0        1.0 -0.657992     0.0     0.0   \n",
       "...              ...     ...       ...        ...       ...     ...     ...   \n",
       "253675           0.0     1.0       1.0        1.0       NaN     0.0     0.0   \n",
       "253676           1.0     1.0       1.0        1.0       NaN     0.0     0.0   \n",
       "253677           0.0     0.0       0.0        1.0       NaN     0.0     0.0   \n",
       "253678           0.0     1.0       0.0        1.0       NaN     0.0     0.0   \n",
       "253679           1.0     1.0       1.0        1.0       NaN     0.0     0.0   \n",
       "\n",
       "        HeartDiseaseorAttack  PhysActivity  Fruits  ...  AnyHealthcare  \\\n",
       "0                        0.0           0.0     0.0  ...            1.0   \n",
       "1                        0.0           1.0     0.0  ...            0.0   \n",
       "2                        0.0           0.0     1.0  ...            1.0   \n",
       "3                        0.0           1.0     1.0  ...            1.0   \n",
       "4                        0.0           1.0     1.0  ...            1.0   \n",
       "...                      ...           ...     ...  ...            ...   \n",
       "253675                   0.0           0.0     1.0  ...            1.0   \n",
       "253676                   0.0           0.0     0.0  ...            1.0   \n",
       "253677                   0.0           1.0     1.0  ...            1.0   \n",
       "253678                   0.0           0.0     1.0  ...            1.0   \n",
       "253679                   1.0           1.0     1.0  ...            1.0   \n",
       "\n",
       "        NoDocbcCost  GenHlth  MentHlth  PhysHlth  DiffWalk  Sex   Age  \\\n",
       "0               0.0      5.0       0.6       0.5       1.0  0.0   9.0   \n",
       "1               1.0      3.0       0.0       0.0       0.0  0.0   7.0   \n",
       "2               1.0      5.0       1.0       1.0       1.0  0.0   9.0   \n",
       "3               0.0      2.0       0.0       0.0       0.0  0.0  11.0   \n",
       "4               0.0      2.0       0.1       0.0       0.0  0.0  11.0   \n",
       "...             ...      ...       ...       ...       ...  ...   ...   \n",
       "253675          0.0      3.0       NaN       NaN       0.0  1.0   5.0   \n",
       "253676          0.0      4.0       NaN       NaN       1.0  0.0  11.0   \n",
       "253677          0.0      1.0       NaN       NaN       0.0  0.0   2.0   \n",
       "253678          0.0      3.0       NaN       NaN       0.0  1.0   7.0   \n",
       "253679          0.0      2.0       NaN       NaN       0.0  0.0   9.0   \n",
       "\n",
       "        Education  Income  \n",
       "0             4.0     3.0  \n",
       "1             6.0     1.0  \n",
       "2             4.0     8.0  \n",
       "3             3.0     6.0  \n",
       "4             5.0     4.0  \n",
       "...           ...     ...  \n",
       "253675        6.0     7.0  \n",
       "253676        2.0     4.0  \n",
       "253677        5.0     2.0  \n",
       "253678        5.0     1.0  \n",
       "253679        6.0     2.0  \n",
       "\n",
       "[249049 rows x 22 columns]"
      ]
     },
     "execution_count": 19,
     "metadata": {},
     "output_type": "execute_result"
    }
   ],
   "source": [
    "df"
   ]
  },
  {
   "cell_type": "code",
   "execution_count": 18,
   "id": "acc10689",
   "metadata": {},
   "outputs": [],
   "source": [
    "#Por alguna razón se producen datos NAN al hacer la normalización (No considera los ultimos 5.000 datos), \n",
    "# por esta razón eliminamos los datos NAN para poder continuar\n",
    "df = df.dropna()"
   ]
  },
  {
   "cell_type": "markdown",
   "id": "0bacb853",
   "metadata": {},
   "source": [
    "## 2.- Separar el set de datos en set de entrenamiento y set de testeo, distinguiendo entre la matriz de atributos y el vector de clases."
   ]
  },
  {
   "cell_type": "markdown",
   "id": "f7ce070f",
   "metadata": {},
   "source": [
    "Dado que tenemos un problema con el desbalanceo de datos vamos a aplicar diferentes técnicas para solucionar este problema. Llamamos y al vector de clases y x a la matriz de atributos. Usamos la función train_test_split para separar en entrenamiento y testeo. En primer lugar separamos entrenamiento y testeo sin aplicar ninguna corrección al desbalance. En segundo lugar aplicamos train_test_split con el hiperparámetro stratify=y para extraer una muestra balanceada."
   ]
  },
  {
   "cell_type": "code",
   "execution_count": 19,
   "id": "38dd4287",
   "metadata": {},
   "outputs": [],
   "source": [
    "y = df.iloc[:,0].values\n",
    "X = df.iloc[:, 1:22].values"
   ]
  },
  {
   "cell_type": "code",
   "execution_count": 20,
   "id": "841a476a",
   "metadata": {},
   "outputs": [
    {
     "data": {
      "text/plain": [
       "array([0., 0., 0., ..., 0., 0., 0.])"
      ]
     },
     "execution_count": 20,
     "metadata": {},
     "output_type": "execute_result"
    }
   ],
   "source": [
    "y"
   ]
  },
  {
   "cell_type": "code",
   "execution_count": 21,
   "id": "7cb3e2cc",
   "metadata": {},
   "outputs": [
    {
     "data": {
      "text/plain": [
       "array([[ 1.,  1.,  1., ...,  9.,  4.,  3.],\n",
       "       [ 0.,  0.,  0., ...,  7.,  6.,  1.],\n",
       "       [ 1.,  1.,  1., ...,  9.,  4.,  8.],\n",
       "       ...,\n",
       "       [ 1.,  1.,  1., ..., 10.,  6.,  6.],\n",
       "       [ 0.,  0.,  0., ...,  8.,  4.,  8.],\n",
       "       [ 0.,  0.,  1., ..., 11.,  5.,  7.]])"
      ]
     },
     "execution_count": 21,
     "metadata": {},
     "output_type": "execute_result"
    }
   ],
   "source": [
    "X"
   ]
  },
  {
   "cell_type": "code",
   "execution_count": 22,
   "id": "e24e7209",
   "metadata": {},
   "outputs": [],
   "source": [
    "X1_train, X1_test, y1_train, y1_test = train_test_split(X, y, test_size=0.30)"
   ]
  },
  {
   "cell_type": "code",
   "execution_count": 23,
   "id": "fd77987c",
   "metadata": {},
   "outputs": [],
   "source": [
    "smote = SMOTE(sampling_strategy='auto')\n",
    "X_resampled, y_resampled = smote.fit_resample(X, y)\n",
    "X2_train, X2_test, y2_train, y2_test = train_test_split(X_resampled, y_resampled, test_size=0.30)"
   ]
  },
  {
   "cell_type": "code",
   "execution_count": 24,
   "id": "9e6df813",
   "metadata": {},
   "outputs": [],
   "source": [
    "under_sampler = RandomUnderSampler(sampling_strategy='auto')\n",
    "X_resampled, y_resampled = under_sampler.fit_resample(X, y)\n",
    "X3_train, X3_test, y3_train, y3_test = train_test_split(X_resampled, y_resampled, test_size=0.30)"
   ]
  },
  {
   "cell_type": "markdown",
   "id": "ac6f2e9f",
   "metadata": {},
   "source": [
    "## 3.- Aplicar dos algoritmos vistos en clases, a elección. Realizar pruebas con distintos sets de parámetros, al menos 3, eligiendo el mejor de acuerdo al accuracy obtenido en el set de testeo. Reportar los experimentos reportados y explicar cada uno."
   ]
  },
  {
   "cell_type": "markdown",
   "id": "34861481",
   "metadata": {},
   "source": [
    "En un primer lugar aplicaremos un árbol de decisión modificando algunos hiperparámetros, generando de esta forma 6 modelos diferentes. Luego de esto aplicaremos RandomForest, a sabiendas que es una mejora de arboles de decisión  para verificar si obtenemos un avance en nuestro modelo. "
   ]
  },
  {
   "cell_type": "markdown",
   "id": "565d90c6",
   "metadata": {},
   "source": [
    "<h1>Arboles de decisión</h1>"
   ]
  },
  {
   "cell_type": "code",
   "execution_count": 25,
   "id": "ff19b119",
   "metadata": {},
   "outputs": [],
   "source": [
    "clf1 = tree.DecisionTreeClassifier()\n",
    "clf2 = tree.DecisionTreeClassifier(class_weight='balanced')\n",
    "clf3 = tree.DecisionTreeClassifier(max_depth=5, min_samples_split=2)\n",
    "clf4 = tree.DecisionTreeClassifier(max_depth=5, min_samples_split=2, class_weight='balanced')\n",
    "clf5 = tree.DecisionTreeClassifier(max_depth=10, min_samples_split=5)\n",
    "clf6 = tree.DecisionTreeClassifier(max_depth=10, min_samples_split=5, class_weight='balanced')\n",
    "clf7 = tree.DecisionTreeClassifier(max_depth=15, min_samples_split=10)\n",
    "clf8 = tree.DecisionTreeClassifier(max_depth=15, min_samples_split=10, class_weight='balanced')\n",
    "clf9 = tree.DecisionTreeClassifier(max_depth=20, min_samples_split=20)"
   ]
  },
  {
   "cell_type": "code",
   "execution_count": 26,
   "id": "b89b61a7",
   "metadata": {},
   "outputs": [
    {
     "data": {
      "text/html": [
       "<style>#sk-container-id-1 {color: black;background-color: white;}#sk-container-id-1 pre{padding: 0;}#sk-container-id-1 div.sk-toggleable {background-color: white;}#sk-container-id-1 label.sk-toggleable__label {cursor: pointer;display: block;width: 100%;margin-bottom: 0;padding: 0.3em;box-sizing: border-box;text-align: center;}#sk-container-id-1 label.sk-toggleable__label-arrow:before {content: \"▸\";float: left;margin-right: 0.25em;color: #696969;}#sk-container-id-1 label.sk-toggleable__label-arrow:hover:before {color: black;}#sk-container-id-1 div.sk-estimator:hover label.sk-toggleable__label-arrow:before {color: black;}#sk-container-id-1 div.sk-toggleable__content {max-height: 0;max-width: 0;overflow: hidden;text-align: left;background-color: #f0f8ff;}#sk-container-id-1 div.sk-toggleable__content pre {margin: 0.2em;color: black;border-radius: 0.25em;background-color: #f0f8ff;}#sk-container-id-1 input.sk-toggleable__control:checked~div.sk-toggleable__content {max-height: 200px;max-width: 100%;overflow: auto;}#sk-container-id-1 input.sk-toggleable__control:checked~label.sk-toggleable__label-arrow:before {content: \"▾\";}#sk-container-id-1 div.sk-estimator input.sk-toggleable__control:checked~label.sk-toggleable__label {background-color: #d4ebff;}#sk-container-id-1 div.sk-label input.sk-toggleable__control:checked~label.sk-toggleable__label {background-color: #d4ebff;}#sk-container-id-1 input.sk-hidden--visually {border: 0;clip: rect(1px 1px 1px 1px);clip: rect(1px, 1px, 1px, 1px);height: 1px;margin: -1px;overflow: hidden;padding: 0;position: absolute;width: 1px;}#sk-container-id-1 div.sk-estimator {font-family: monospace;background-color: #f0f8ff;border: 1px dotted black;border-radius: 0.25em;box-sizing: border-box;margin-bottom: 0.5em;}#sk-container-id-1 div.sk-estimator:hover {background-color: #d4ebff;}#sk-container-id-1 div.sk-parallel-item::after {content: \"\";width: 100%;border-bottom: 1px solid gray;flex-grow: 1;}#sk-container-id-1 div.sk-label:hover label.sk-toggleable__label {background-color: #d4ebff;}#sk-container-id-1 div.sk-serial::before {content: \"\";position: absolute;border-left: 1px solid gray;box-sizing: border-box;top: 0;bottom: 0;left: 50%;z-index: 0;}#sk-container-id-1 div.sk-serial {display: flex;flex-direction: column;align-items: center;background-color: white;padding-right: 0.2em;padding-left: 0.2em;position: relative;}#sk-container-id-1 div.sk-item {position: relative;z-index: 1;}#sk-container-id-1 div.sk-parallel {display: flex;align-items: stretch;justify-content: center;background-color: white;position: relative;}#sk-container-id-1 div.sk-item::before, #sk-container-id-1 div.sk-parallel-item::before {content: \"\";position: absolute;border-left: 1px solid gray;box-sizing: border-box;top: 0;bottom: 0;left: 50%;z-index: -1;}#sk-container-id-1 div.sk-parallel-item {display: flex;flex-direction: column;z-index: 1;position: relative;background-color: white;}#sk-container-id-1 div.sk-parallel-item:first-child::after {align-self: flex-end;width: 50%;}#sk-container-id-1 div.sk-parallel-item:last-child::after {align-self: flex-start;width: 50%;}#sk-container-id-1 div.sk-parallel-item:only-child::after {width: 0;}#sk-container-id-1 div.sk-dashed-wrapped {border: 1px dashed gray;margin: 0 0.4em 0.5em 0.4em;box-sizing: border-box;padding-bottom: 0.4em;background-color: white;}#sk-container-id-1 div.sk-label label {font-family: monospace;font-weight: bold;display: inline-block;line-height: 1.2em;}#sk-container-id-1 div.sk-label-container {text-align: center;}#sk-container-id-1 div.sk-container {/* jupyter's `normalize.less` sets `[hidden] { display: none; }` but bootstrap.min.css set `[hidden] { display: none !important; }` so we also need the `!important` here to be able to override the default hidden behavior on the sphinx rendered scikit-learn.org. See: https://github.com/scikit-learn/scikit-learn/issues/21755 */display: inline-block !important;position: relative;}#sk-container-id-1 div.sk-text-repr-fallback {display: none;}</style><div id=\"sk-container-id-1\" class=\"sk-top-container\"><div class=\"sk-text-repr-fallback\"><pre>DecisionTreeClassifier(max_depth=20, min_samples_split=20)</pre><b>In a Jupyter environment, please rerun this cell to show the HTML representation or trust the notebook. <br />On GitHub, the HTML representation is unable to render, please try loading this page with nbviewer.org.</b></div><div class=\"sk-container\" hidden><div class=\"sk-item\"><div class=\"sk-estimator sk-toggleable\"><input class=\"sk-toggleable__control sk-hidden--visually\" id=\"sk-estimator-id-1\" type=\"checkbox\" checked><label for=\"sk-estimator-id-1\" class=\"sk-toggleable__label sk-toggleable__label-arrow\">DecisionTreeClassifier</label><div class=\"sk-toggleable__content\"><pre>DecisionTreeClassifier(max_depth=20, min_samples_split=20)</pre></div></div></div></div></div>"
      ],
      "text/plain": [
       "DecisionTreeClassifier(max_depth=20, min_samples_split=20)"
      ]
     },
     "execution_count": 26,
     "metadata": {},
     "output_type": "execute_result"
    }
   ],
   "source": [
    "clf1.fit(X1_train, y1_train)\n",
    "clf2.fit(X1_train, y1_train)\n",
    "clf3.fit(X1_train, y1_train)\n",
    "clf4.fit(X2_train, y2_train)\n",
    "clf5.fit(X2_train, y2_train)\n",
    "clf6.fit(X2_train, y2_train)\n",
    "clf7.fit(X3_train, y3_train)\n",
    "clf8.fit(X3_train, y3_train)\n",
    "clf9.fit(X3_train, y3_train)"
   ]
  },
  {
   "cell_type": "code",
   "execution_count": 27,
   "id": "7ba5f01b",
   "metadata": {},
   "outputs": [],
   "source": [
    "y_pred_clf1 = clf1.predict(X1_test)\n",
    "y_pred_clf2 = clf2.predict(X1_test)\n",
    "y_pred_clf3 = clf3.predict(X1_test)\n",
    "y_pred_clf4 = clf4.predict(X2_test)\n",
    "y_pred_clf5 = clf5.predict(X2_test)\n",
    "y_pred_clf6 = clf6.predict(X2_test)\n",
    "y_pred_clf7 = clf7.predict(X3_test)\n",
    "y_pred_clf8 = clf8.predict(X3_test)\n",
    "y_pred_clf9 = clf9.predict(X3_test)"
   ]
  },
  {
   "cell_type": "code",
   "execution_count": 28,
   "id": "e3e283a7",
   "metadata": {},
   "outputs": [
    {
     "name": "stdout",
     "output_type": "stream",
     "text": [
      "modelo 1 Accuracy:  78.87585013152335 %\n"
     ]
    }
   ],
   "source": [
    "print('modelo 1 Accuracy: ',metrics.accuracy_score(y1_test, y_pred_clf1)*100,'%')"
   ]
  },
  {
   "cell_type": "code",
   "execution_count": 29,
   "id": "32afd61e",
   "metadata": {},
   "outputs": [
    {
     "name": "stdout",
     "output_type": "stream",
     "text": [
      "modelo 2 Accuracy:  79.00124027204208 %\n"
     ]
    }
   ],
   "source": [
    "print('modelo 2 Accuracy: ',metrics.accuracy_score(y1_test, y_pred_clf2)*100,'%')"
   ]
  },
  {
   "cell_type": "code",
   "execution_count": 30,
   "id": "2770d5f2",
   "metadata": {},
   "outputs": [
    {
     "name": "stdout",
     "output_type": "stream",
     "text": [
      "modelo 3 Accuracy:  85.75731556064386 %\n"
     ]
    }
   ],
   "source": [
    "print('modelo 3 Accuracy: ',metrics.accuracy_score(y1_test, y_pred_clf3)*100,'%')"
   ]
  },
  {
   "cell_type": "code",
   "execution_count": 31,
   "id": "8f5a2c5c",
   "metadata": {},
   "outputs": [
    {
     "name": "stdout",
     "output_type": "stream",
     "text": [
      "modelo 4 Accuracy:  76.95102121752925 %\n"
     ]
    }
   ],
   "source": [
    "print('modelo 4 Accuracy: ',metrics.accuracy_score(y2_test, y_pred_clf4)*100,'%')"
   ]
  },
  {
   "cell_type": "code",
   "execution_count": 32,
   "id": "e2f634e6",
   "metadata": {},
   "outputs": [
    {
     "name": "stdout",
     "output_type": "stream",
     "text": [
      "modelo 5 Accuracy:  80.24509220701962 %\n"
     ]
    }
   ],
   "source": [
    "print('modelo 5 Accuracy: ',metrics.accuracy_score(y2_test, y_pred_clf5)*100,'%')"
   ]
  },
  {
   "cell_type": "code",
   "execution_count": 33,
   "id": "c7c14393",
   "metadata": {},
   "outputs": [
    {
     "name": "stdout",
     "output_type": "stream",
     "text": [
      "modelo 6 Accuracy:  80.24588538568312 %\n"
     ]
    }
   ],
   "source": [
    "print('modelo 6 Accuracy: ',metrics.accuracy_score(y2_test, y_pred_clf6)*100,'%')"
   ]
  },
  {
   "cell_type": "code",
   "execution_count": 34,
   "id": "8b2e0de8",
   "metadata": {},
   "outputs": [
    {
     "name": "stdout",
     "output_type": "stream",
     "text": [
      "modelo 7 Accuracy:  70.37305849905647 %\n"
     ]
    }
   ],
   "source": [
    "print('modelo 7 Accuracy: ',metrics.accuracy_score(y3_test, y_pred_clf7)*100,'%')"
   ]
  },
  {
   "cell_type": "code",
   "execution_count": 35,
   "id": "c5dcd3dd",
   "metadata": {},
   "outputs": [
    {
     "name": "stdout",
     "output_type": "stream",
     "text": [
      "modelo 8 Accuracy:  70.37305849905647 %\n"
     ]
    }
   ],
   "source": [
    "print('modelo 8 Accuracy: ',metrics.accuracy_score(y3_test, y_pred_clf8)*100,'%')"
   ]
  },
  {
   "cell_type": "code",
   "execution_count": 36,
   "id": "98bf02df",
   "metadata": {},
   "outputs": [
    {
     "name": "stdout",
     "output_type": "stream",
     "text": [
      "modelo 9 Accuracy:  68.70856921662553 %\n"
     ]
    }
   ],
   "source": [
    "print('modelo 9 Accuracy: ',metrics.accuracy_score(y3_test, y_pred_clf9)*100,'%')"
   ]
  },
  {
   "cell_type": "markdown",
   "id": "e7a35a14",
   "metadata": {},
   "source": [
    "<h1>Random Forest </h1>"
   ]
  },
  {
   "cell_type": "code",
   "execution_count": 53,
   "id": "bfc57cb0",
   "metadata": {},
   "outputs": [],
   "source": [
    "rf1 = RandomForestClassifier(n_estimators=100, oob_score=True, random_state=123456)\n",
    "rf2 = RandomForestClassifier(n_estimators=100, oob_score=True, random_state=123456,class_weight='balanced')\n",
    "rf3 = RandomForestClassifier(n_estimators=200, max_depth=10, random_state=123456, class_weight='balanced')"
   ]
  },
  {
   "cell_type": "code",
   "execution_count": 54,
   "id": "e75e565b",
   "metadata": {},
   "outputs": [
    {
     "data": {
      "text/html": [
       "<style>#sk-container-id-3 {color: black;background-color: white;}#sk-container-id-3 pre{padding: 0;}#sk-container-id-3 div.sk-toggleable {background-color: white;}#sk-container-id-3 label.sk-toggleable__label {cursor: pointer;display: block;width: 100%;margin-bottom: 0;padding: 0.3em;box-sizing: border-box;text-align: center;}#sk-container-id-3 label.sk-toggleable__label-arrow:before {content: \"▸\";float: left;margin-right: 0.25em;color: #696969;}#sk-container-id-3 label.sk-toggleable__label-arrow:hover:before {color: black;}#sk-container-id-3 div.sk-estimator:hover label.sk-toggleable__label-arrow:before {color: black;}#sk-container-id-3 div.sk-toggleable__content {max-height: 0;max-width: 0;overflow: hidden;text-align: left;background-color: #f0f8ff;}#sk-container-id-3 div.sk-toggleable__content pre {margin: 0.2em;color: black;border-radius: 0.25em;background-color: #f0f8ff;}#sk-container-id-3 input.sk-toggleable__control:checked~div.sk-toggleable__content {max-height: 200px;max-width: 100%;overflow: auto;}#sk-container-id-3 input.sk-toggleable__control:checked~label.sk-toggleable__label-arrow:before {content: \"▾\";}#sk-container-id-3 div.sk-estimator input.sk-toggleable__control:checked~label.sk-toggleable__label {background-color: #d4ebff;}#sk-container-id-3 div.sk-label input.sk-toggleable__control:checked~label.sk-toggleable__label {background-color: #d4ebff;}#sk-container-id-3 input.sk-hidden--visually {border: 0;clip: rect(1px 1px 1px 1px);clip: rect(1px, 1px, 1px, 1px);height: 1px;margin: -1px;overflow: hidden;padding: 0;position: absolute;width: 1px;}#sk-container-id-3 div.sk-estimator {font-family: monospace;background-color: #f0f8ff;border: 1px dotted black;border-radius: 0.25em;box-sizing: border-box;margin-bottom: 0.5em;}#sk-container-id-3 div.sk-estimator:hover {background-color: #d4ebff;}#sk-container-id-3 div.sk-parallel-item::after {content: \"\";width: 100%;border-bottom: 1px solid gray;flex-grow: 1;}#sk-container-id-3 div.sk-label:hover label.sk-toggleable__label {background-color: #d4ebff;}#sk-container-id-3 div.sk-serial::before {content: \"\";position: absolute;border-left: 1px solid gray;box-sizing: border-box;top: 0;bottom: 0;left: 50%;z-index: 0;}#sk-container-id-3 div.sk-serial {display: flex;flex-direction: column;align-items: center;background-color: white;padding-right: 0.2em;padding-left: 0.2em;position: relative;}#sk-container-id-3 div.sk-item {position: relative;z-index: 1;}#sk-container-id-3 div.sk-parallel {display: flex;align-items: stretch;justify-content: center;background-color: white;position: relative;}#sk-container-id-3 div.sk-item::before, #sk-container-id-3 div.sk-parallel-item::before {content: \"\";position: absolute;border-left: 1px solid gray;box-sizing: border-box;top: 0;bottom: 0;left: 50%;z-index: -1;}#sk-container-id-3 div.sk-parallel-item {display: flex;flex-direction: column;z-index: 1;position: relative;background-color: white;}#sk-container-id-3 div.sk-parallel-item:first-child::after {align-self: flex-end;width: 50%;}#sk-container-id-3 div.sk-parallel-item:last-child::after {align-self: flex-start;width: 50%;}#sk-container-id-3 div.sk-parallel-item:only-child::after {width: 0;}#sk-container-id-3 div.sk-dashed-wrapped {border: 1px dashed gray;margin: 0 0.4em 0.5em 0.4em;box-sizing: border-box;padding-bottom: 0.4em;background-color: white;}#sk-container-id-3 div.sk-label label {font-family: monospace;font-weight: bold;display: inline-block;line-height: 1.2em;}#sk-container-id-3 div.sk-label-container {text-align: center;}#sk-container-id-3 div.sk-container {/* jupyter's `normalize.less` sets `[hidden] { display: none; }` but bootstrap.min.css set `[hidden] { display: none !important; }` so we also need the `!important` here to be able to override the default hidden behavior on the sphinx rendered scikit-learn.org. See: https://github.com/scikit-learn/scikit-learn/issues/21755 */display: inline-block !important;position: relative;}#sk-container-id-3 div.sk-text-repr-fallback {display: none;}</style><div id=\"sk-container-id-3\" class=\"sk-top-container\"><div class=\"sk-text-repr-fallback\"><pre>RandomForestClassifier(class_weight=&#x27;balanced&#x27;, max_depth=10, n_estimators=200,\n",
       "                       random_state=123456)</pre><b>In a Jupyter environment, please rerun this cell to show the HTML representation or trust the notebook. <br />On GitHub, the HTML representation is unable to render, please try loading this page with nbviewer.org.</b></div><div class=\"sk-container\" hidden><div class=\"sk-item\"><div class=\"sk-estimator sk-toggleable\"><input class=\"sk-toggleable__control sk-hidden--visually\" id=\"sk-estimator-id-3\" type=\"checkbox\" checked><label for=\"sk-estimator-id-3\" class=\"sk-toggleable__label sk-toggleable__label-arrow\">RandomForestClassifier</label><div class=\"sk-toggleable__content\"><pre>RandomForestClassifier(class_weight=&#x27;balanced&#x27;, max_depth=10, n_estimators=200,\n",
       "                       random_state=123456)</pre></div></div></div></div></div>"
      ],
      "text/plain": [
       "RandomForestClassifier(class_weight='balanced', max_depth=10, n_estimators=200,\n",
       "                       random_state=123456)"
      ]
     },
     "execution_count": 54,
     "metadata": {},
     "output_type": "execute_result"
    }
   ],
   "source": [
    "rf1.fit(X2_train, y2_train)\n",
    "rf2.fit(X2_train, y2_train)\n",
    "rf3.fit(X2_train, y2_train)"
   ]
  },
  {
   "cell_type": "code",
   "execution_count": 55,
   "id": "df52b5aa",
   "metadata": {},
   "outputs": [],
   "source": [
    "pred_rf1 = rf1.predict(X2_test)\n",
    "pred_rf2 = rf2.predict(X2_test)\n",
    "pred_rf3 = rf3.predict(X2_test)"
   ]
  },
  {
   "cell_type": "code",
   "execution_count": 57,
   "id": "097695bb",
   "metadata": {},
   "outputs": [
    {
     "name": "stdout",
     "output_type": "stream",
     "text": [
      "modelo Random Forest 1 Accuracy:  91.46539758080507 %\n"
     ]
    }
   ],
   "source": [
    "print('modelo Random Forest 1 Accuracy: ',metrics.accuracy_score(y2_test, pred_rf1)*100,'%')"
   ]
  },
  {
   "cell_type": "code",
   "execution_count": 58,
   "id": "ed9ca833",
   "metadata": {},
   "outputs": [
    {
     "name": "stdout",
     "output_type": "stream",
     "text": [
      "modelo Random Forest 2 Accuracy:  91.43208407693834 %\n"
     ]
    }
   ],
   "source": [
    "print('modelo Random Forest 2 Accuracy: ',metrics.accuracy_score(y2_test, pred_rf2)*100,'%')"
   ]
  },
  {
   "cell_type": "code",
   "execution_count": 59,
   "id": "dcef91f5",
   "metadata": {},
   "outputs": [
    {
     "name": "stdout",
     "output_type": "stream",
     "text": [
      "modelo Random Forest 3 Accuracy:  82.5833829069998 %\n"
     ]
    }
   ],
   "source": [
    "print('modelo Random Forest 3 Accuracy: ',metrics.accuracy_score(y2_test, pred_rf3)*100,'%')"
   ]
  },
  {
   "cell_type": "markdown",
   "id": "35b1b04e",
   "metadata": {},
   "source": [
    "## 4.- Reportar las métricas de precision, recall y f1-score para cada clase, explicar y analizar el resultado obtenido según cada clase.\n"
   ]
  },
  {
   "cell_type": "markdown",
   "id": "5b3b214a",
   "metadata": {},
   "source": []
  },
  {
   "cell_type": "markdown",
   "id": "81a5e77b",
   "metadata": {},
   "source": [
    "<h1>Arboles de decisión</h1>"
   ]
  },
  {
   "cell_type": "code",
   "execution_count": 43,
   "id": "dcef7874",
   "metadata": {},
   "outputs": [
    {
     "name": "stdout",
     "output_type": "stream",
     "text": [
      "Precisión: 0.28306264501160094\n",
      "Recall: 0.31521531100478467\n",
      "Puntuación F1: 0.29827500339566265\n"
     ]
    }
   ],
   "source": [
    "# Modelo 1\n",
    "precision, recall, f1_score, _ = metrics.precision_recall_fscore_support(y1_test, y_pred_clf1, average='binary')\n",
    "print(\"Precisión:\", precision)\n",
    "print(\"Recall:\", recall)\n",
    "print(\"Puntuación F1:\", f1_score)"
   ]
  },
  {
   "cell_type": "code",
   "execution_count": 44,
   "id": "ac5e2cdc",
   "metadata": {},
   "outputs": [
    {
     "name": "stdout",
     "output_type": "stream",
     "text": [
      "Precisión: 0.26567079512149\n",
      "Recall: 0.26889952153110047\n",
      "Puntuación F1: 0.2672754078090075\n"
     ]
    }
   ],
   "source": [
    "# Modelo 2\n",
    "precision, recall, f1_score, _ = metrics.precision_recall_fscore_support(y1_test, y_pred_clf2, average='binary')\n",
    "print(\"Precisión:\", precision)\n",
    "print(\"Recall:\", recall)\n",
    "print(\"Puntuación F1:\", f1_score)"
   ]
  },
  {
   "cell_type": "code",
   "execution_count": 49,
   "id": "57b1bda7",
   "metadata": {},
   "outputs": [
    {
     "name": "stdout",
     "output_type": "stream",
     "text": [
      "Precisión: 0.0\n",
      "Recall: 0.0\n",
      "Puntuación F1: 0.0\n"
     ]
    },
    {
     "name": "stderr",
     "output_type": "stream",
     "text": [
      "/Users/mallenarenas/anaconda3/lib/python3.10/site-packages/sklearn/metrics/_classification.py:1344: UndefinedMetricWarning: Precision and F-score are ill-defined and being set to 0.0 due to no predicted samples. Use `zero_division` parameter to control this behavior.\n",
      "  _warn_prf(average, modifier, msg_start, len(result))\n"
     ]
    }
   ],
   "source": [
    "# Modelo 3\n",
    "precision, recall, f1_score, _ = metrics.precision_recall_fscore_support(y1_test, y_pred_clf3, average='binary')\n",
    "print(\"Precisión:\", precision)\n",
    "print(\"Recall:\", recall)\n",
    "print(\"Puntuación F1:\", f1_score)"
   ]
  },
  {
   "cell_type": "code",
   "execution_count": 46,
   "id": "c4893349",
   "metadata": {},
   "outputs": [
    {
     "name": "stdout",
     "output_type": "stream",
     "text": [
      "Precisión: 0.8015779933894871\n",
      "Recall: 0.7159886351010302\n",
      "Puntuación F1: 0.7563697338084259\n"
     ]
    }
   ],
   "source": [
    "# Modelo 4\n",
    "precision, recall, f1_score, _ = metrics.precision_recall_fscore_support(y2_test, y_pred_clf4, average='binary')\n",
    "print(\"Precisión:\", precision)\n",
    "print(\"Recall:\", recall)\n",
    "print(\"Puntuación F1:\", f1_score)"
   ]
  },
  {
   "cell_type": "code",
   "execution_count": 47,
   "id": "bc2e70f2",
   "metadata": {},
   "outputs": [
    {
     "name": "stdout",
     "output_type": "stream",
     "text": [
      "Precisión: 0.8070741104967032\n",
      "Recall: 0.7946223075824194\n",
      "Puntuación F1: 0.8007998080460691\n"
     ]
    }
   ],
   "source": [
    "# Modelo 5\n",
    "precision, recall, f1_score, _ = metrics.precision_recall_fscore_support(y2_test, y_pred_clf5, average='binary')\n",
    "print(\"Precisión:\", precision)\n",
    "print(\"Recall:\", recall)\n",
    "print(\"Puntuación F1:\", f1_score)"
   ]
  },
  {
   "cell_type": "code",
   "execution_count": 48,
   "id": "e94c3732",
   "metadata": {},
   "outputs": [
    {
     "name": "stdout",
     "output_type": "stream",
     "text": [
      "Precisión: 0.807087121944928\n",
      "Recall: 0.7946223075824194\n",
      "Puntuación F1: 0.8008062129585936\n"
     ]
    }
   ],
   "source": [
    "# Modelo 6\n",
    "precision, recall, f1_score, _ = metrics.precision_recall_fscore_support(y2_test, y_pred_clf6, average='binary')\n",
    "print(\"Precisión:\", precision)\n",
    "print(\"Recall:\", recall)\n",
    "print(\"Puntuación F1:\", f1_score)"
   ]
  },
  {
   "cell_type": "code",
   "execution_count": 50,
   "id": "25cc2f7e",
   "metadata": {},
   "outputs": [
    {
     "name": "stdout",
     "output_type": "stream",
     "text": [
      "Precisión: 0.6879617949180032\n",
      "Recall: 0.7416221466731423\n",
      "Puntuación F1: 0.7137848829056234\n"
     ]
    }
   ],
   "source": [
    "# Modelo 7\n",
    "precision, recall, f1_score, _ = metrics.precision_recall_fscore_support(y3_test, y_pred_clf7, average='binary')\n",
    "print(\"Precisión:\", precision)\n",
    "print(\"Recall:\", recall)\n",
    "print(\"Puntuación F1:\", f1_score)"
   ]
  },
  {
   "cell_type": "code",
   "execution_count": 51,
   "id": "05362f8d",
   "metadata": {},
   "outputs": [
    {
     "name": "stdout",
     "output_type": "stream",
     "text": [
      "Precisión: 0.6886075949367089\n",
      "Recall: 0.7397765905779504\n",
      "Puntuación F1: 0.7132755794895809\n"
     ]
    }
   ],
   "source": [
    "# Modelo 8\n",
    "precision, recall, f1_score, _ = metrics.precision_recall_fscore_support(y3_test, y_pred_clf8, average='binary')\n",
    "print(\"Precisión:\", precision)\n",
    "print(\"Recall:\", recall)\n",
    "print(\"Puntuación F1:\", f1_score)"
   ]
  },
  {
   "cell_type": "code",
   "execution_count": 52,
   "id": "399d9913",
   "metadata": {},
   "outputs": [
    {
     "name": "stdout",
     "output_type": "stream",
     "text": [
      "Precisión: 0.684322033898305\n",
      "Recall: 0.6902379796017484\n",
      "Puntuación F1: 0.6872672759804632\n"
     ]
    }
   ],
   "source": [
    "# Modelo 9\n",
    "precision, recall, f1_score, _ = metrics.precision_recall_fscore_support(y3_test, y_pred_clf9, average='binary')\n",
    "print(\"Precisión:\", precision)\n",
    "print(\"Recall:\", recall)\n",
    "print(\"Puntuación F1:\", f1_score)"
   ]
  },
  {
   "cell_type": "markdown",
   "id": "828a11e6",
   "metadata": {},
   "source": [
    "De los 9 modelos aplicados el que tenía mejor accuracy es el modelo 3, sin embargo esto dsólo se debia al desbalance de los datos. ya que si miramos en conjunto Accuracy, Precisión, recall y Puntuación F1. Los mejores modelos serían el modelo 5 y el modelo 6"
   ]
  },
  {
   "cell_type": "markdown",
   "id": "4a9ab054",
   "metadata": {},
   "source": [
    "<h1>Random Forest </h1>"
   ]
  },
  {
   "cell_type": "code",
   "execution_count": 60,
   "id": "c3441318",
   "metadata": {},
   "outputs": [
    {
     "name": "stdout",
     "output_type": "stream",
     "text": [
      "Precisión: 0.9307399284312594\n",
      "Recall: 0.895874668656053\n",
      "Puntuación F1: 0.9129745555717312\n"
     ]
    }
   ],
   "source": [
    "precision, recall, f1_score, _ = metrics.precision_recall_fscore_support(y2_test, pred_rf1, average='binary')\n",
    "print(\"Precisión:\", precision)\n",
    "print(\"Recall:\", recall)\n",
    "print(\"Puntuación F1:\", f1_score)"
   ]
  },
  {
   "cell_type": "code",
   "execution_count": 61,
   "id": "dd62b8b7",
   "metadata": {},
   "outputs": [
    {
     "name": "stdout",
     "output_type": "stream",
     "text": [
      "Precisión: 0.9295577609901414\n",
      "Recall: 0.8964778336851796\n",
      "Puntuación F1: 0.9127181641887524\n"
     ]
    }
   ],
   "source": [
    "precision, recall, f1_score, _ = metrics.precision_recall_fscore_support(y2_test, pred_rf2, average='binary')\n",
    "print(\"Precisión:\", precision)\n",
    "print(\"Recall:\", recall)\n",
    "print(\"Puntuación F1:\", f1_score)"
   ]
  },
  {
   "cell_type": "code",
   "execution_count": 62,
   "id": "804b2f75",
   "metadata": {},
   "outputs": [
    {
     "name": "stdout",
     "output_type": "stream",
     "text": [
      "Precisión: 0.8132909943056044\n",
      "Recall: 0.8455897525436105\n",
      "Puntuación F1: 0.8291259416049306\n"
     ]
    }
   ],
   "source": [
    "precision, recall, f1_score, _ = metrics.precision_recall_fscore_support(y2_test, pred_rf3, average='binary')\n",
    "print(\"Precisión:\", precision)\n",
    "print(\"Recall:\", recall)\n",
    "print(\"Puntuación F1:\", f1_score)"
   ]
  },
  {
   "cell_type": "markdown",
   "id": "4ad34683",
   "metadata": {},
   "source": [
    "De los Modelos de Random Forest aplicados el mejor al mirar el conjunto de métricas es el primer Modelo. "
   ]
  },
  {
   "cell_type": "markdown",
   "id": "ab617e7a",
   "metadata": {},
   "source": [
    "## 5.- Realizar visualización para cada algoritmo escogido, explicando lo observado.\n"
   ]
  },
  {
   "cell_type": "markdown",
   "id": "caa1c833",
   "metadata": {},
   "source": [
    "Con respecto a la visualización, vamos a visualizar en todos los casos la matriz de confución, ya que considero que nos puede ayudar a interpretar todas las metricas que hemos obtenido anteriormente."
   ]
  },
  {
   "cell_type": "markdown",
   "id": "dddf557a",
   "metadata": {},
   "source": [
    "<h1>Arbol de decisión</h1>"
   ]
  },
  {
   "cell_type": "code",
   "execution_count": 64,
   "id": "3efe6221",
   "metadata": {},
   "outputs": [],
   "source": [
    "cm1 = metrics.confusion_matrix(y1_test, y_pred_clf1)\n",
    "cm2 = metrics.confusion_matrix(y1_test, y_pred_clf2)\n",
    "cm3 = metrics.confusion_matrix(y1_test, y_pred_clf3)\n",
    "cm4 = metrics.confusion_matrix(y2_test, y_pred_clf4)\n",
    "cm5 = metrics.confusion_matrix(y2_test, y_pred_clf5)\n",
    "cm6 = metrics.confusion_matrix(y2_test, y_pred_clf6)\n",
    "cm7 = metrics.confusion_matrix(y3_test, y_pred_clf7)\n",
    "cm8 = metrics.confusion_matrix(y3_test, y_pred_clf8)\n",
    "cm9 = metrics.confusion_matrix(y3_test, y_pred_clf9)"
   ]
  },
  {
   "cell_type": "code",
   "execution_count": 65,
   "id": "4946eb34",
   "metadata": {},
   "outputs": [
    {
     "data": {
      "text/plain": [
       "Text(777.1928104575164, 0.5, 'Real')"
      ]
     },
     "execution_count": 65,
     "metadata": {},
     "output_type": "execute_result"
    },
    {
     "data": {
      "image/png": "[encoded data removed]",
      "text/plain": [
       "<Figure size 1200x400 with 3 Axes>"
      ]
     },
     "metadata": {},
     "output_type": "display_data"
    }
   ],
   "source": [
    "plt.figure(figsize=(12, 4))\n",
    "\n",
    "plt.subplot(131)\n",
    "sns.heatmap(cm1, annot=True, fmt='d', cmap='Blues', cbar=False)\n",
    "plt.title('Modelo 1')\n",
    "plt.xlabel('Predicho')\n",
    "plt.ylabel('Real')\n",
    "\n",
    "plt.subplot(132)\n",
    "sns.heatmap(cm2, annot=True, fmt='d', cmap='Blues', cbar=False)\n",
    "plt.title('Modelo 2')\n",
    "plt.xlabel('Predicho')\n",
    "plt.ylabel('Real')\n",
    "\n",
    "plt.subplot(133)\n",
    "sns.heatmap(cm3, annot=True, fmt='d', cmap='Blues', cbar=False)\n",
    "plt.title('Modelo 3')\n",
    "plt.xlabel('Predicho')\n",
    "plt.ylabel('Real')"
   ]
  },
  {
   "cell_type": "code",
   "execution_count": 66,
   "id": "40743f18",
   "metadata": {},
   "outputs": [
    {
     "data": {
      "text/plain": [
       "Text(777.1928104575164, 0.5, 'Real')"
      ]
     },
     "execution_count": 66,
     "metadata": {},
     "output_type": "execute_result"
    },
    {
     "data": {
      "image/png": "[encoded data removed]",
      "text/plain": [
       "<Figure size 1200x400 with 3 Axes>"
      ]
     },
     "metadata": {},
     "output_type": "display_data"
    }
   ],
   "source": [
    "plt.figure(figsize=(12, 4))\n",
    "\n",
    "plt.subplot(131)\n",
    "sns.heatmap(cm4, annot=True, fmt='d', cmap='Blues', cbar=False)\n",
    "plt.title('Modelo 4')\n",
    "plt.xlabel('Predicho')\n",
    "plt.ylabel('Real')\n",
    "\n",
    "plt.subplot(132)\n",
    "sns.heatmap(cm5, annot=True, fmt='d', cmap='Blues', cbar=False)\n",
    "plt.title('Modelo 5')\n",
    "plt.xlabel('Predicho')\n",
    "plt.ylabel('Real')\n",
    "\n",
    "plt.subplot(133)\n",
    "sns.heatmap(cm6, annot=True, fmt='d', cmap='Blues', cbar=False)\n",
    "plt.title('Modelo 6')\n",
    "plt.xlabel('Predicho')\n",
    "plt.ylabel('Real')"
   ]
  },
  {
   "cell_type": "code",
   "execution_count": 67,
   "id": "8995db40",
   "metadata": {},
   "outputs": [
    {
     "data": {
      "text/plain": [
       "Text(777.1928104575164, 0.5, 'Real')"
      ]
     },
     "execution_count": 67,
     "metadata": {},
     "output_type": "execute_result"
    },
    {
     "data": {
      "image/png": "[encoded data removed]",
      "text/plain": [
       "<Figure size 1200x400 with 3 Axes>"
      ]
     },
     "metadata": {},
     "output_type": "display_data"
    }
   ],
   "source": [
    "plt.figure(figsize=(12, 4))\n",
    "\n",
    "plt.subplot(131)\n",
    "sns.heatmap(cm7, annot=True, fmt='d', cmap='Blues', cbar=False)\n",
    "plt.title('Modelo 7')\n",
    "plt.xlabel('Predicho')\n",
    "plt.ylabel('Real')\n",
    "\n",
    "plt.subplot(132)\n",
    "sns.heatmap(cm8, annot=True, fmt='d', cmap='Blues', cbar=False)\n",
    "plt.title('Modelo 8')\n",
    "plt.xlabel('Predicho')\n",
    "plt.ylabel('Real')\n",
    "\n",
    "plt.subplot(133)\n",
    "sns.heatmap(cm9, annot=True, fmt='d', cmap='Blues', cbar=False)\n",
    "plt.title('Modelo 9')\n",
    "plt.xlabel('Predicho')\n",
    "plt.ylabel('Real')"
   ]
  },
  {
   "cell_type": "markdown",
   "id": "0c378d9d",
   "metadata": {},
   "source": [
    "<h1>Random Forest</h1>"
   ]
  },
  {
   "cell_type": "code",
   "execution_count": 69,
   "id": "1fe66a74",
   "metadata": {},
   "outputs": [],
   "source": [
    "cm1_rf = metrics.confusion_matrix(y2_test, pred_rf1)\n",
    "cm2_rf = metrics.confusion_matrix(y2_test, pred_rf2)\n",
    "cm3_rf = metrics.confusion_matrix(y2_test, pred_rf3)"
   ]
  },
  {
   "cell_type": "code",
   "execution_count": 70,
   "id": "97ab8851",
   "metadata": {},
   "outputs": [
    {
     "data": {
      "text/plain": [
       "Text(777.1928104575164, 0.5, 'Real')"
      ]
     },
     "execution_count": 70,
     "metadata": {},
     "output_type": "execute_result"
    },
    {
     "data": {
      "image/png": "[encoded data removed]",
      "text/plain": [
       "<Figure size 1200x400 with 3 Axes>"
      ]
     },
     "metadata": {},
     "output_type": "display_data"
    }
   ],
   "source": [
    "plt.figure(figsize=(12, 4))\n",
    "\n",
    "plt.subplot(131)\n",
    "sns.heatmap(cm1_rf, annot=True, fmt='d', cmap='Blues', cbar=False)\n",
    "plt.title('Modelo 1 de Random Forest')\n",
    "plt.xlabel('Predicho')\n",
    "plt.ylabel('Real')\n",
    "\n",
    "plt.subplot(132)\n",
    "sns.heatmap(cm2_rf, annot=True, fmt='d', cmap='Blues', cbar=False)\n",
    "plt.title('Modelo 2 de Random Forest')\n",
    "plt.xlabel('Predicho')\n",
    "plt.ylabel('Real')\n",
    "\n",
    "plt.subplot(133)\n",
    "sns.heatmap(cm3_rf, annot=True, fmt='d', cmap='Blues', cbar=False)\n",
    "plt.title('Modelo 3 de Random Forest')\n",
    "plt.xlabel('Predicho')\n",
    "plt.ylabel('Real')"
   ]
  },
  {
   "cell_type": "markdown",
   "id": "20fe1bd7",
   "metadata": {},
   "source": [
    "## 6.- Hacer un análisis general de los resultados obtenidos con cada algoritmo aplicado.\n"
   ]
  },
  {
   "cell_type": "markdown",
   "id": "f07764a2",
   "metadata": {},
   "source": [
    "En primer lugar trabajamos con datos de la salud, estos datos en general tienenel problema de desbalance, ya que no hay mucho porcentaje de enfermos dentro de una población. Estudiamos métodos para tratar el problema del desbalance aplicando el algoritmo de árboles de decisión a diferentes grupos de entrenamiento y testeo. Llegando a la conclusión de que el método SMOTE era el mejor para tratar estos datos. Finalmente aplicamos Random Forest a este grupo de entrenamiento y testeo. Encontrando que los mejores modelos serían el 1 y 2 de Random Forest. Esto último debido a que pudimos aumentar el caso de diabetes detectados y nuestro modelo no se quedó sólo detectando individuos sanos, que es lo que suele ocurrir en este tipo de datos."
   ]
  },
  {
   "cell_type": "code",
   "execution_count": null,
   "id": "2d307540",
   "metadata": {},
   "outputs": [],
   "source": []
  }
 ],
 "metadata": {
  "kernelspec": {
   "display_name": "Python 3 (ipykernel)",
   "language": "python",
   "name": "python3"
  },
  "language_info": {
   "codemirror_mode": {
    "name": "ipython",
    "version": 3
   },
   "file_extension": ".py",
   "mimetype": "text/x-python",
   "name": "python",
   "nbconvert_exporter": "python",
   "pygments_lexer": "ipython3",
   "version": "3.10.9"
  }
 },
 "nbformat": 4,
 "nbformat_minor": 5
}
